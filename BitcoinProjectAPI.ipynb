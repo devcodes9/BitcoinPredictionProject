{
  "nbformat": 4,
  "nbformat_minor": 0,
  "metadata": {
    "colab": {
      "name": "BitcoinProjectAPI.ipynb",
      "provenance": [],
      "collapsed_sections": [],
      "authorship_tag": "ABX9TyP3swlQI+m5DK6eb/dbMYhR",
      "include_colab_link": true
    },
    "kernelspec": {
      "name": "python3",
      "display_name": "Python 3"
    },
    "language_info": {
      "name": "python"
    }
  },
  "cells": [
    {
      "cell_type": "markdown",
      "metadata": {
        "id": "view-in-github",
        "colab_type": "text"
      },
      "source": [
        "<a href=\"https://colab.research.google.com/github/devcodes9/BitcoinPredictionProject/blob/main/BitcoinProjectAPI.ipynb\" target=\"_parent\"><img src=\"https://colab.research.google.com/assets/colab-badge.svg\" alt=\"Open In Colab\"/></a>"
      ]
    },
    {
      "cell_type": "markdown",
      "metadata": {
        "id": "J7tKi7xpAJir"
      },
      "source": [
        "#Getting Bitcoin data(past 30 days) from CoinGeckoAPI"
      ]
    },
    {
      "cell_type": "code",
      "metadata": {
        "colab": {
          "base_uri": "https://localhost:8080/"
        },
        "id": "ENyMDodx3WRi",
        "outputId": "aa47b4e9-5295-4abe-9a33-85ba779c378d"
      },
      "source": [
        "!pip install pycoingecko\n",
        "from pycoingecko import CoinGeckoAPI\n",
        "cg = CoinGeckoAPI()\n",
        "bitcoin_data = cg.get_coin_market_chart_by_id(id = \"bitcoin\",vs_currency= \"inr\",days = \"30\")"
      ],
      "execution_count": null,
      "outputs": [
        {
          "output_type": "stream",
          "text": [
            "Requirement already satisfied: pycoingecko in /usr/local/lib/python3.7/dist-packages (2.2.0)\n",
            "Requirement already satisfied: requests in /usr/local/lib/python3.7/dist-packages (from pycoingecko) (2.23.0)\n",
            "Requirement already satisfied: chardet<4,>=3.0.2 in /usr/local/lib/python3.7/dist-packages (from requests->pycoingecko) (3.0.4)\n",
            "Requirement already satisfied: urllib3!=1.25.0,!=1.25.1,<1.26,>=1.21.1 in /usr/local/lib/python3.7/dist-packages (from requests->pycoingecko) (1.24.3)\n",
            "Requirement already satisfied: idna<3,>=2.5 in /usr/local/lib/python3.7/dist-packages (from requests->pycoingecko) (2.10)\n",
            "Requirement already satisfied: certifi>=2017.4.17 in /usr/local/lib/python3.7/dist-packages (from requests->pycoingecko) (2021.5.30)\n"
          ],
          "name": "stdout"
        }
      ]
    },
    {
      "cell_type": "markdown",
      "metadata": {
        "id": "3P9RMDv7AYqC"
      },
      "source": [
        "#Imports"
      ]
    },
    {
      "cell_type": "code",
      "metadata": {
        "id": "IErtQvg2_MGZ"
      },
      "source": [
        "import matplotlib.pyplot as plt\n",
        "import pandas as pd\n",
        "import plotly.graph_objects as go\n",
        "from datetime import datetime\n",
        "import matplotlib.pyplot as plt\n",
        "from sklearn import model_selection\n",
        "from sklearn.linear_model import LinearRegression\n",
        "from sklearn.metrics import mean_squared_error, r2_score\n",
        "import numpy as np"
      ],
      "execution_count": null,
      "outputs": []
    },
    {
      "cell_type": "code",
      "metadata": {
        "colab": {
          "base_uri": "https://localhost:8080/",
          "height": 417
        },
        "id": "_ZPMHdeH4nHt",
        "outputId": "b213b764-ff92-4dee-c202-8de4ac319ce9"
      },
      "source": [
        "df = pd.DataFrame(bitcoin_data[\"prices\"],columns = [\"Timestamp\",\"Price\"])\n",
        "df[\"Date\"] = pd.to_datetime(df[\"Timestamp\"], unit = 'ms')\n",
        "df"
      ],
      "execution_count": null,
      "outputs": [
        {
          "output_type": "execute_result",
          "data": {
            "text/html": [
              "<div>\n",
              "<style scoped>\n",
              "    .dataframe tbody tr th:only-of-type {\n",
              "        vertical-align: middle;\n",
              "    }\n",
              "\n",
              "    .dataframe tbody tr th {\n",
              "        vertical-align: top;\n",
              "    }\n",
              "\n",
              "    .dataframe thead th {\n",
              "        text-align: right;\n",
              "    }\n",
              "</style>\n",
              "<table border=\"1\" class=\"dataframe\">\n",
              "  <thead>\n",
              "    <tr style=\"text-align: right;\">\n",
              "      <th></th>\n",
              "      <th>Timestamp</th>\n",
              "      <th>Price</th>\n",
              "      <th>Date</th>\n",
              "    </tr>\n",
              "  </thead>\n",
              "  <tbody>\n",
              "    <tr>\n",
              "      <th>0</th>\n",
              "      <td>1626022862112</td>\n",
              "      <td>2.539668e+06</td>\n",
              "      <td>2021-07-11 17:01:02.112</td>\n",
              "    </tr>\n",
              "    <tr>\n",
              "      <th>1</th>\n",
              "      <td>1626026421678</td>\n",
              "      <td>2.533468e+06</td>\n",
              "      <td>2021-07-11 18:00:21.678</td>\n",
              "    </tr>\n",
              "    <tr>\n",
              "      <th>2</th>\n",
              "      <td>1626030072591</td>\n",
              "      <td>2.536803e+06</td>\n",
              "      <td>2021-07-11 19:01:12.591</td>\n",
              "    </tr>\n",
              "    <tr>\n",
              "      <th>3</th>\n",
              "      <td>1626033654526</td>\n",
              "      <td>2.529985e+06</td>\n",
              "      <td>2021-07-11 20:00:54.526</td>\n",
              "    </tr>\n",
              "    <tr>\n",
              "      <th>4</th>\n",
              "      <td>1626037294600</td>\n",
              "      <td>2.529400e+06</td>\n",
              "      <td>2021-07-11 21:01:34.600</td>\n",
              "    </tr>\n",
              "    <tr>\n",
              "      <th>...</th>\n",
              "      <td>...</td>\n",
              "      <td>...</td>\n",
              "      <td>...</td>\n",
              "    </tr>\n",
              "    <tr>\n",
              "      <th>718</th>\n",
              "      <td>1628600412328</td>\n",
              "      <td>3.407034e+06</td>\n",
              "      <td>2021-08-10 13:00:12.328</td>\n",
              "    </tr>\n",
              "    <tr>\n",
              "      <th>719</th>\n",
              "      <td>1628604082952</td>\n",
              "      <td>3.383548e+06</td>\n",
              "      <td>2021-08-10 14:01:22.952</td>\n",
              "    </tr>\n",
              "    <tr>\n",
              "      <th>720</th>\n",
              "      <td>1628607640651</td>\n",
              "      <td>3.375805e+06</td>\n",
              "      <td>2021-08-10 15:00:40.651</td>\n",
              "    </tr>\n",
              "    <tr>\n",
              "      <th>721</th>\n",
              "      <td>1628611226223</td>\n",
              "      <td>3.364637e+06</td>\n",
              "      <td>2021-08-10 16:00:26.223</td>\n",
              "    </tr>\n",
              "    <tr>\n",
              "      <th>722</th>\n",
              "      <td>1628612726000</td>\n",
              "      <td>3.361388e+06</td>\n",
              "      <td>2021-08-10 16:25:26.000</td>\n",
              "    </tr>\n",
              "  </tbody>\n",
              "</table>\n",
              "<p>723 rows × 3 columns</p>\n",
              "</div>"
            ],
            "text/plain": [
              "         Timestamp         Price                    Date\n",
              "0    1626022862112  2.539668e+06 2021-07-11 17:01:02.112\n",
              "1    1626026421678  2.533468e+06 2021-07-11 18:00:21.678\n",
              "2    1626030072591  2.536803e+06 2021-07-11 19:01:12.591\n",
              "3    1626033654526  2.529985e+06 2021-07-11 20:00:54.526\n",
              "4    1626037294600  2.529400e+06 2021-07-11 21:01:34.600\n",
              "..             ...           ...                     ...\n",
              "718  1628600412328  3.407034e+06 2021-08-10 13:00:12.328\n",
              "719  1628604082952  3.383548e+06 2021-08-10 14:01:22.952\n",
              "720  1628607640651  3.375805e+06 2021-08-10 15:00:40.651\n",
              "721  1628611226223  3.364637e+06 2021-08-10 16:00:26.223\n",
              "722  1628612726000  3.361388e+06 2021-08-10 16:25:26.000\n",
              "\n",
              "[723 rows x 3 columns]"
            ]
          },
          "metadata": {
            "tags": []
          },
          "execution_count": 23
        }
      ]
    },
    {
      "cell_type": "markdown",
      "metadata": {
        "id": "ZcEAYtnCAjcR"
      },
      "source": [
        "#Grouping Data"
      ]
    },
    {
      "cell_type": "code",
      "metadata": {
        "colab": {
          "base_uri": "https://localhost:8080/",
          "height": 1000
        },
        "id": "Gxia0lpx5sdf",
        "outputId": "d21107a7-2138-4215-e5b3-79164a2db9cc"
      },
      "source": [
        "candlestick_data = df.groupby(df.Date.dt.date).agg({\"Price\":['min','max','first','last']})\n",
        "candlestick_data"
      ],
      "execution_count": null,
      "outputs": [
        {
          "output_type": "execute_result",
          "data": {
            "text/html": [
              "<div>\n",
              "<style scoped>\n",
              "    .dataframe tbody tr th:only-of-type {\n",
              "        vertical-align: middle;\n",
              "    }\n",
              "\n",
              "    .dataframe tbody tr th {\n",
              "        vertical-align: top;\n",
              "    }\n",
              "\n",
              "    .dataframe thead tr th {\n",
              "        text-align: left;\n",
              "    }\n",
              "\n",
              "    .dataframe thead tr:last-of-type th {\n",
              "        text-align: right;\n",
              "    }\n",
              "</style>\n",
              "<table border=\"1\" class=\"dataframe\">\n",
              "  <thead>\n",
              "    <tr>\n",
              "      <th></th>\n",
              "      <th colspan=\"4\" halign=\"left\">Price</th>\n",
              "    </tr>\n",
              "    <tr>\n",
              "      <th></th>\n",
              "      <th>min</th>\n",
              "      <th>max</th>\n",
              "      <th>first</th>\n",
              "      <th>last</th>\n",
              "    </tr>\n",
              "    <tr>\n",
              "      <th>Date</th>\n",
              "      <th></th>\n",
              "      <th></th>\n",
              "      <th></th>\n",
              "      <th></th>\n",
              "    </tr>\n",
              "  </thead>\n",
              "  <tbody>\n",
              "    <tr>\n",
              "      <th>2021-07-11</th>\n",
              "      <td>2.529400e+06</td>\n",
              "      <td>2.577341e+06</td>\n",
              "      <td>2.539668e+06</td>\n",
              "      <td>2.567270e+06</td>\n",
              "    </tr>\n",
              "    <tr>\n",
              "      <th>2021-07-12</th>\n",
              "      <td>2.450420e+06</td>\n",
              "      <td>2.577026e+06</td>\n",
              "      <td>2.554899e+06</td>\n",
              "      <td>2.471280e+06</td>\n",
              "    </tr>\n",
              "    <tr>\n",
              "      <th>2021-07-13</th>\n",
              "      <td>2.419705e+06</td>\n",
              "      <td>2.482480e+06</td>\n",
              "      <td>2.479322e+06</td>\n",
              "      <td>2.431828e+06</td>\n",
              "    </tr>\n",
              "    <tr>\n",
              "      <th>2021-07-14</th>\n",
              "      <td>2.376884e+06</td>\n",
              "      <td>2.464510e+06</td>\n",
              "      <td>2.443513e+06</td>\n",
              "      <td>2.464510e+06</td>\n",
              "    </tr>\n",
              "    <tr>\n",
              "      <th>2021-07-15</th>\n",
              "      <td>2.338864e+06</td>\n",
              "      <td>2.466474e+06</td>\n",
              "      <td>2.448440e+06</td>\n",
              "      <td>2.374443e+06</td>\n",
              "    </tr>\n",
              "    <tr>\n",
              "      <th>2021-07-16</th>\n",
              "      <td>2.325825e+06</td>\n",
              "      <td>2.401963e+06</td>\n",
              "      <td>2.362224e+06</td>\n",
              "      <td>2.358533e+06</td>\n",
              "    </tr>\n",
              "    <tr>\n",
              "      <th>2021-07-17</th>\n",
              "      <td>2.338991e+06</td>\n",
              "      <td>2.386197e+06</td>\n",
              "      <td>2.343771e+06</td>\n",
              "      <td>2.366153e+06</td>\n",
              "    </tr>\n",
              "    <tr>\n",
              "      <th>2021-07-18</th>\n",
              "      <td>2.333125e+06</td>\n",
              "      <td>2.406093e+06</td>\n",
              "      <td>2.357494e+06</td>\n",
              "      <td>2.358342e+06</td>\n",
              "    </tr>\n",
              "    <tr>\n",
              "      <th>2021-07-19</th>\n",
              "      <td>2.298496e+06</td>\n",
              "      <td>2.388071e+06</td>\n",
              "      <td>2.381073e+06</td>\n",
              "      <td>2.322268e+06</td>\n",
              "    </tr>\n",
              "    <tr>\n",
              "      <th>2021-07-20</th>\n",
              "      <td>2.205992e+06</td>\n",
              "      <td>2.322933e+06</td>\n",
              "      <td>2.319419e+06</td>\n",
              "      <td>2.205992e+06</td>\n",
              "    </tr>\n",
              "    <tr>\n",
              "      <th>2021-07-21</th>\n",
              "      <td>2.211698e+06</td>\n",
              "      <td>2.403132e+06</td>\n",
              "      <td>2.229604e+06</td>\n",
              "      <td>2.390953e+06</td>\n",
              "    </tr>\n",
              "    <tr>\n",
              "      <th>2021-07-22</th>\n",
              "      <td>2.377489e+06</td>\n",
              "      <td>2.423521e+06</td>\n",
              "      <td>2.405444e+06</td>\n",
              "      <td>2.402687e+06</td>\n",
              "    </tr>\n",
              "    <tr>\n",
              "      <th>2021-07-23</th>\n",
              "      <td>2.396214e+06</td>\n",
              "      <td>2.484193e+06</td>\n",
              "      <td>2.411688e+06</td>\n",
              "      <td>2.484193e+06</td>\n",
              "    </tr>\n",
              "    <tr>\n",
              "      <th>2021-07-24</th>\n",
              "      <td>2.495439e+06</td>\n",
              "      <td>2.565230e+06</td>\n",
              "      <td>2.495439e+06</td>\n",
              "      <td>2.535238e+06</td>\n",
              "    </tr>\n",
              "    <tr>\n",
              "      <th>2021-07-25</th>\n",
              "      <td>2.529933e+06</td>\n",
              "      <td>2.586907e+06</td>\n",
              "      <td>2.553179e+06</td>\n",
              "      <td>2.577219e+06</td>\n",
              "    </tr>\n",
              "    <tr>\n",
              "      <th>2021-07-26</th>\n",
              "      <td>2.644956e+06</td>\n",
              "      <td>2.961192e+06</td>\n",
              "      <td>2.644956e+06</td>\n",
              "      <td>2.779453e+06</td>\n",
              "    </tr>\n",
              "    <tr>\n",
              "      <th>2021-07-27</th>\n",
              "      <td>2.716812e+06</td>\n",
              "      <td>2.927069e+06</td>\n",
              "      <td>2.765559e+06</td>\n",
              "      <td>2.927069e+06</td>\n",
              "    </tr>\n",
              "    <tr>\n",
              "      <th>2021-07-28</th>\n",
              "      <td>2.865183e+06</td>\n",
              "      <td>3.039393e+06</td>\n",
              "      <td>2.912984e+06</td>\n",
              "      <td>2.959642e+06</td>\n",
              "    </tr>\n",
              "    <tr>\n",
              "      <th>2021-07-29</th>\n",
              "      <td>2.931296e+06</td>\n",
              "      <td>3.016866e+06</td>\n",
              "      <td>2.977930e+06</td>\n",
              "      <td>2.957892e+06</td>\n",
              "    </tr>\n",
              "    <tr>\n",
              "      <th>2021-07-30</th>\n",
              "      <td>2.878809e+06</td>\n",
              "      <td>3.107590e+06</td>\n",
              "      <td>2.968223e+06</td>\n",
              "      <td>3.072951e+06</td>\n",
              "    </tr>\n",
              "    <tr>\n",
              "      <th>2021-07-31</th>\n",
              "      <td>3.063857e+06</td>\n",
              "      <td>3.121315e+06</td>\n",
              "      <td>3.119190e+06</td>\n",
              "      <td>3.114572e+06</td>\n",
              "    </tr>\n",
              "    <tr>\n",
              "      <th>2021-08-01</th>\n",
              "      <td>2.997438e+06</td>\n",
              "      <td>3.170678e+06</td>\n",
              "      <td>3.101582e+06</td>\n",
              "      <td>2.997438e+06</td>\n",
              "    </tr>\n",
              "    <tr>\n",
              "      <th>2021-08-02</th>\n",
              "      <td>2.889140e+06</td>\n",
              "      <td>3.018848e+06</td>\n",
              "      <td>2.974071e+06</td>\n",
              "      <td>2.933243e+06</td>\n",
              "    </tr>\n",
              "    <tr>\n",
              "      <th>2021-08-03</th>\n",
              "      <td>2.826450e+06</td>\n",
              "      <td>2.956045e+06</td>\n",
              "      <td>2.919676e+06</td>\n",
              "      <td>2.850449e+06</td>\n",
              "    </tr>\n",
              "    <tr>\n",
              "      <th>2021-08-04</th>\n",
              "      <td>2.800154e+06</td>\n",
              "      <td>2.957972e+06</td>\n",
              "      <td>2.833199e+06</td>\n",
              "      <td>2.942379e+06</td>\n",
              "    </tr>\n",
              "    <tr>\n",
              "      <th>2021-08-05</th>\n",
              "      <td>2.787305e+06</td>\n",
              "      <td>3.033406e+06</td>\n",
              "      <td>2.950018e+06</td>\n",
              "      <td>3.030635e+06</td>\n",
              "    </tr>\n",
              "    <tr>\n",
              "      <th>2021-08-06</th>\n",
              "      <td>2.954334e+06</td>\n",
              "      <td>3.200482e+06</td>\n",
              "      <td>3.023101e+06</td>\n",
              "      <td>3.167692e+06</td>\n",
              "    </tr>\n",
              "    <tr>\n",
              "      <th>2021-08-07</th>\n",
              "      <td>3.178543e+06</td>\n",
              "      <td>3.275139e+06</td>\n",
              "      <td>3.178543e+06</td>\n",
              "      <td>3.263714e+06</td>\n",
              "    </tr>\n",
              "    <tr>\n",
              "      <th>2021-08-08</th>\n",
              "      <td>3.245381e+06</td>\n",
              "      <td>3.351167e+06</td>\n",
              "      <td>3.303451e+06</td>\n",
              "      <td>3.298449e+06</td>\n",
              "    </tr>\n",
              "    <tr>\n",
              "      <th>2021-08-09</th>\n",
              "      <td>3.207229e+06</td>\n",
              "      <td>3.456671e+06</td>\n",
              "      <td>3.259249e+06</td>\n",
              "      <td>3.440933e+06</td>\n",
              "    </tr>\n",
              "    <tr>\n",
              "      <th>2021-08-10</th>\n",
              "      <td>3.361388e+06</td>\n",
              "      <td>3.448616e+06</td>\n",
              "      <td>3.448616e+06</td>\n",
              "      <td>3.361388e+06</td>\n",
              "    </tr>\n",
              "  </tbody>\n",
              "</table>\n",
              "</div>"
            ],
            "text/plain": [
              "                   Price                                          \n",
              "                     min           max         first          last\n",
              "Date                                                              \n",
              "2021-07-11  2.529400e+06  2.577341e+06  2.539668e+06  2.567270e+06\n",
              "2021-07-12  2.450420e+06  2.577026e+06  2.554899e+06  2.471280e+06\n",
              "2021-07-13  2.419705e+06  2.482480e+06  2.479322e+06  2.431828e+06\n",
              "2021-07-14  2.376884e+06  2.464510e+06  2.443513e+06  2.464510e+06\n",
              "2021-07-15  2.338864e+06  2.466474e+06  2.448440e+06  2.374443e+06\n",
              "2021-07-16  2.325825e+06  2.401963e+06  2.362224e+06  2.358533e+06\n",
              "2021-07-17  2.338991e+06  2.386197e+06  2.343771e+06  2.366153e+06\n",
              "2021-07-18  2.333125e+06  2.406093e+06  2.357494e+06  2.358342e+06\n",
              "2021-07-19  2.298496e+06  2.388071e+06  2.381073e+06  2.322268e+06\n",
              "2021-07-20  2.205992e+06  2.322933e+06  2.319419e+06  2.205992e+06\n",
              "2021-07-21  2.211698e+06  2.403132e+06  2.229604e+06  2.390953e+06\n",
              "2021-07-22  2.377489e+06  2.423521e+06  2.405444e+06  2.402687e+06\n",
              "2021-07-23  2.396214e+06  2.484193e+06  2.411688e+06  2.484193e+06\n",
              "2021-07-24  2.495439e+06  2.565230e+06  2.495439e+06  2.535238e+06\n",
              "2021-07-25  2.529933e+06  2.586907e+06  2.553179e+06  2.577219e+06\n",
              "2021-07-26  2.644956e+06  2.961192e+06  2.644956e+06  2.779453e+06\n",
              "2021-07-27  2.716812e+06  2.927069e+06  2.765559e+06  2.927069e+06\n",
              "2021-07-28  2.865183e+06  3.039393e+06  2.912984e+06  2.959642e+06\n",
              "2021-07-29  2.931296e+06  3.016866e+06  2.977930e+06  2.957892e+06\n",
              "2021-07-30  2.878809e+06  3.107590e+06  2.968223e+06  3.072951e+06\n",
              "2021-07-31  3.063857e+06  3.121315e+06  3.119190e+06  3.114572e+06\n",
              "2021-08-01  2.997438e+06  3.170678e+06  3.101582e+06  2.997438e+06\n",
              "2021-08-02  2.889140e+06  3.018848e+06  2.974071e+06  2.933243e+06\n",
              "2021-08-03  2.826450e+06  2.956045e+06  2.919676e+06  2.850449e+06\n",
              "2021-08-04  2.800154e+06  2.957972e+06  2.833199e+06  2.942379e+06\n",
              "2021-08-05  2.787305e+06  3.033406e+06  2.950018e+06  3.030635e+06\n",
              "2021-08-06  2.954334e+06  3.200482e+06  3.023101e+06  3.167692e+06\n",
              "2021-08-07  3.178543e+06  3.275139e+06  3.178543e+06  3.263714e+06\n",
              "2021-08-08  3.245381e+06  3.351167e+06  3.303451e+06  3.298449e+06\n",
              "2021-08-09  3.207229e+06  3.456671e+06  3.259249e+06  3.440933e+06\n",
              "2021-08-10  3.361388e+06  3.448616e+06  3.448616e+06  3.361388e+06"
            ]
          },
          "metadata": {
            "tags": []
          },
          "execution_count": 24
        }
      ]
    },
    {
      "cell_type": "markdown",
      "metadata": {
        "id": "l9uqT4SNApBZ"
      },
      "source": [
        "#Candlestick Graph"
      ]
    },
    {
      "cell_type": "code",
      "metadata": {
        "colab": {
          "base_uri": "https://localhost:8080/",
          "height": 542
        },
        "id": "7ooFjdT57ojy",
        "outputId": "8ebed48a-790e-4ccc-f31f-8510449e6546"
      },
      "source": [
        "fig = go.Figure(data=[go.Candlestick(x= candlestick_data.index,\n",
        "                open=candlestick_data['Price']['first'],\n",
        "                high=candlestick_data['Price']['max'],\n",
        "                low=candlestick_data['Price']['min'],\n",
        "                close=candlestick_data['Price']['last'])])\n",
        "\n",
        "fig.update_layout(xaxis_title = \"Date\",yaxis_title=\"Price(INR)\",title = \"BITCOIN CANDLESTICK CHART OVER PAST 30 DAYS\")\n",
        "\n",
        "\n",
        "fig.show()\n"
      ],
      "execution_count": null,
      "outputs": [
        {
          "output_type": "display_data",
          "data": {
            "text/html": [
              "<html>\n",
              "<head><meta charset=\"utf-8\" /></head>\n",
              "<body>\n",
              "    <div>\n",
              "            <script src=\"https://cdnjs.cloudflare.com/ajax/libs/mathjax/2.7.5/MathJax.js?config=TeX-AMS-MML_SVG\"></script><script type=\"text/javascript\">if (window.MathJax) {MathJax.Hub.Config({SVG: {font: \"STIX-Web\"}});}</script>\n",
              "                <script type=\"text/javascript\">window.PlotlyConfig = {MathJaxConfig: 'local'};</script>\n",
              "        <script src=\"https://cdn.plot.ly/plotly-latest.min.js\"></script>    \n",
              "            <div id=\"47a49d09-421b-4414-9177-bbc49b58afb6\" class=\"plotly-graph-div\" style=\"height:525px; width:100%;\"></div>\n",
              "            <script type=\"text/javascript\">\n",
              "                \n",
              "                    window.PLOTLYENV=window.PLOTLYENV || {};\n",
              "                    \n",
              "                if (document.getElementById(\"47a49d09-421b-4414-9177-bbc49b58afb6\")) {\n",
              "                    Plotly.newPlot(\n",
              "                        '47a49d09-421b-4414-9177-bbc49b58afb6',\n",
              "                        [{\"close\": [2567269.606779768, 2471279.9526514392, 2431828.032303076, 2464510.418891882, 2374443.1958935303, 2358533.407035554, 2366152.603130841, 2358342.0089921574, 2322268.385549079, 2205991.591657621, 2390953.2581606973, 2402686.648646503, 2484193.0807166537, 2535237.936600068, 2577219.015600615, 2779453.4473534254, 2927068.9329645354, 2959642.0794794974, 2957892.201119601, 3072950.5823926674, 3114571.976331518, 2997438.4013854847, 2933243.3265739917, 2850448.702161303, 2942379.361250551, 3030635.3693434205, 3167692.3112901757, 3263714.2620563717, 3298449.3405789514, 3440933.198877483, 3361388.4683256093], \"high\": [2577340.5311838095, 2577025.935604856, 2482480.4279240947, 2464510.418891882, 2466474.0937076234, 2401963.3663749355, 2386196.511552602, 2406092.7862069057, 2388070.804324445, 2322932.6646075826, 2403131.7281753016, 2423521.0964946607, 2484193.0807166537, 2565230.179368373, 2586907.343580666, 2961191.9166368833, 2927068.9329645354, 3039393.0444464246, 3016866.215940033, 3107589.7808810193, 3121315.4738402073, 3170677.956155205, 3018848.352225121, 2956045.3326843544, 2957971.732039041, 3033406.2710967553, 3200482.1042109914, 3275139.310097068, 3351167.1430120324, 3456671.360199386, 3448616.092574294], \"low\": [2529399.980395044, 2450419.563641706, 2419705.4339503534, 2376884.3494762843, 2338864.4474720014, 2325825.214673709, 2338990.9584086286, 2333125.424207806, 2298496.4856761973, 2205991.591657621, 2211698.3946110266, 2377488.871100785, 2396213.7498678663, 2495439.35627358, 2529933.2399592455, 2644955.975950957, 2716812.1642310116, 2865182.7090024347, 2931296.058212396, 2878809.2631042674, 3063856.832614007, 2997438.4013854847, 2889139.5293153734, 2826450.202349981, 2800154.2624085364, 2787305.434449496, 2954333.934273247, 3178543.3647654927, 3245380.6087625045, 3207228.5036475193, 3361388.4683256093], \"open\": [2539668.3310001097, 2554899.299722558, 2479321.773220109, 2443513.348937644, 2448440.4991061375, 2362224.393214125, 2343770.606656084, 2357494.131597727, 2381072.993983235, 2319419.251592374, 2229603.7733603395, 2405444.2965573175, 2411688.1330977236, 2495439.35627358, 2553179.2408578633, 2644955.975950957, 2765558.992140168, 2912983.673856355, 2977930.484923262, 2968222.5228032945, 3119189.773400975, 3101582.3456515432, 2974071.496060843, 2919675.5959617705, 2833198.6671699663, 2950017.505623539, 3023100.7121892213, 3178543.3647654927, 3303451.488669392, 3259249.2163851284, 3448616.092574294], \"type\": \"candlestick\", \"x\": [\"2021-07-11\", \"2021-07-12\", \"2021-07-13\", \"2021-07-14\", \"2021-07-15\", \"2021-07-16\", \"2021-07-17\", \"2021-07-18\", \"2021-07-19\", \"2021-07-20\", \"2021-07-21\", \"2021-07-22\", \"2021-07-23\", \"2021-07-24\", \"2021-07-25\", \"2021-07-26\", \"2021-07-27\", \"2021-07-28\", \"2021-07-29\", \"2021-07-30\", \"2021-07-31\", \"2021-08-01\", \"2021-08-02\", \"2021-08-03\", \"2021-08-04\", \"2021-08-05\", \"2021-08-06\", \"2021-08-07\", \"2021-08-08\", \"2021-08-09\", \"2021-08-10\"]}],\n",
              "                        {\"template\": {\"data\": {\"bar\": [{\"error_x\": {\"color\": \"#2a3f5f\"}, \"error_y\": {\"color\": \"#2a3f5f\"}, \"marker\": {\"line\": {\"color\": \"#E5ECF6\", \"width\": 0.5}}, \"type\": \"bar\"}], \"barpolar\": [{\"marker\": {\"line\": {\"color\": \"#E5ECF6\", \"width\": 0.5}}, \"type\": \"barpolar\"}], \"carpet\": [{\"aaxis\": {\"endlinecolor\": \"#2a3f5f\", \"gridcolor\": \"white\", \"linecolor\": \"white\", \"minorgridcolor\": \"white\", \"startlinecolor\": \"#2a3f5f\"}, \"baxis\": {\"endlinecolor\": \"#2a3f5f\", \"gridcolor\": \"white\", \"linecolor\": \"white\", \"minorgridcolor\": \"white\", \"startlinecolor\": \"#2a3f5f\"}, \"type\": \"carpet\"}], \"choropleth\": [{\"colorbar\": {\"outlinewidth\": 0, \"ticks\": \"\"}, \"type\": \"choropleth\"}], \"contour\": [{\"colorbar\": {\"outlinewidth\": 0, \"ticks\": \"\"}, \"colorscale\": [[0.0, \"#0d0887\"], [0.1111111111111111, \"#46039f\"], [0.2222222222222222, \"#7201a8\"], [0.3333333333333333, \"#9c179e\"], [0.4444444444444444, \"#bd3786\"], [0.5555555555555556, \"#d8576b\"], [0.6666666666666666, \"#ed7953\"], [0.7777777777777778, \"#fb9f3a\"], [0.8888888888888888, \"#fdca26\"], [1.0, \"#f0f921\"]], \"type\": \"contour\"}], \"contourcarpet\": [{\"colorbar\": {\"outlinewidth\": 0, \"ticks\": \"\"}, \"type\": \"contourcarpet\"}], \"heatmap\": [{\"colorbar\": {\"outlinewidth\": 0, \"ticks\": \"\"}, \"colorscale\": [[0.0, \"#0d0887\"], [0.1111111111111111, \"#46039f\"], [0.2222222222222222, \"#7201a8\"], [0.3333333333333333, \"#9c179e\"], [0.4444444444444444, \"#bd3786\"], [0.5555555555555556, \"#d8576b\"], [0.6666666666666666, \"#ed7953\"], [0.7777777777777778, \"#fb9f3a\"], [0.8888888888888888, \"#fdca26\"], [1.0, \"#f0f921\"]], \"type\": \"heatmap\"}], \"heatmapgl\": [{\"colorbar\": {\"outlinewidth\": 0, \"ticks\": \"\"}, \"colorscale\": [[0.0, \"#0d0887\"], [0.1111111111111111, \"#46039f\"], [0.2222222222222222, \"#7201a8\"], [0.3333333333333333, \"#9c179e\"], [0.4444444444444444, \"#bd3786\"], [0.5555555555555556, \"#d8576b\"], [0.6666666666666666, \"#ed7953\"], [0.7777777777777778, \"#fb9f3a\"], [0.8888888888888888, \"#fdca26\"], [1.0, \"#f0f921\"]], \"type\": \"heatmapgl\"}], \"histogram\": [{\"marker\": {\"colorbar\": {\"outlinewidth\": 0, \"ticks\": \"\"}}, \"type\": \"histogram\"}], \"histogram2d\": [{\"colorbar\": {\"outlinewidth\": 0, \"ticks\": \"\"}, \"colorscale\": [[0.0, \"#0d0887\"], [0.1111111111111111, \"#46039f\"], [0.2222222222222222, \"#7201a8\"], [0.3333333333333333, \"#9c179e\"], [0.4444444444444444, \"#bd3786\"], [0.5555555555555556, \"#d8576b\"], [0.6666666666666666, \"#ed7953\"], [0.7777777777777778, \"#fb9f3a\"], [0.8888888888888888, \"#fdca26\"], [1.0, \"#f0f921\"]], \"type\": \"histogram2d\"}], \"histogram2dcontour\": [{\"colorbar\": {\"outlinewidth\": 0, \"ticks\": \"\"}, \"colorscale\": [[0.0, \"#0d0887\"], [0.1111111111111111, \"#46039f\"], [0.2222222222222222, \"#7201a8\"], [0.3333333333333333, \"#9c179e\"], [0.4444444444444444, \"#bd3786\"], [0.5555555555555556, \"#d8576b\"], [0.6666666666666666, \"#ed7953\"], [0.7777777777777778, \"#fb9f3a\"], [0.8888888888888888, \"#fdca26\"], [1.0, \"#f0f921\"]], \"type\": \"histogram2dcontour\"}], \"mesh3d\": [{\"colorbar\": {\"outlinewidth\": 0, \"ticks\": \"\"}, \"type\": \"mesh3d\"}], \"parcoords\": [{\"line\": {\"colorbar\": {\"outlinewidth\": 0, \"ticks\": \"\"}}, \"type\": \"parcoords\"}], \"pie\": [{\"automargin\": true, \"type\": \"pie\"}], \"scatter\": [{\"marker\": {\"colorbar\": {\"outlinewidth\": 0, \"ticks\": \"\"}}, \"type\": \"scatter\"}], \"scatter3d\": [{\"line\": {\"colorbar\": {\"outlinewidth\": 0, \"ticks\": \"\"}}, \"marker\": {\"colorbar\": {\"outlinewidth\": 0, \"ticks\": \"\"}}, \"type\": \"scatter3d\"}], \"scattercarpet\": [{\"marker\": {\"colorbar\": {\"outlinewidth\": 0, \"ticks\": \"\"}}, \"type\": \"scattercarpet\"}], \"scattergeo\": [{\"marker\": {\"colorbar\": {\"outlinewidth\": 0, \"ticks\": \"\"}}, \"type\": \"scattergeo\"}], \"scattergl\": [{\"marker\": {\"colorbar\": {\"outlinewidth\": 0, \"ticks\": \"\"}}, \"type\": \"scattergl\"}], \"scattermapbox\": [{\"marker\": {\"colorbar\": {\"outlinewidth\": 0, \"ticks\": \"\"}}, \"type\": \"scattermapbox\"}], \"scatterpolar\": [{\"marker\": {\"colorbar\": {\"outlinewidth\": 0, \"ticks\": \"\"}}, \"type\": \"scatterpolar\"}], \"scatterpolargl\": [{\"marker\": {\"colorbar\": {\"outlinewidth\": 0, \"ticks\": \"\"}}, \"type\": \"scatterpolargl\"}], \"scatterternary\": [{\"marker\": {\"colorbar\": {\"outlinewidth\": 0, \"ticks\": \"\"}}, \"type\": \"scatterternary\"}], \"surface\": [{\"colorbar\": {\"outlinewidth\": 0, \"ticks\": \"\"}, \"colorscale\": [[0.0, \"#0d0887\"], [0.1111111111111111, \"#46039f\"], [0.2222222222222222, \"#7201a8\"], [0.3333333333333333, \"#9c179e\"], [0.4444444444444444, \"#bd3786\"], [0.5555555555555556, \"#d8576b\"], [0.6666666666666666, \"#ed7953\"], [0.7777777777777778, \"#fb9f3a\"], [0.8888888888888888, \"#fdca26\"], [1.0, \"#f0f921\"]], \"type\": \"surface\"}], \"table\": [{\"cells\": {\"fill\": {\"color\": \"#EBF0F8\"}, \"line\": {\"color\": \"white\"}}, \"header\": {\"fill\": {\"color\": \"#C8D4E3\"}, \"line\": {\"color\": \"white\"}}, \"type\": \"table\"}]}, \"layout\": {\"annotationdefaults\": {\"arrowcolor\": \"#2a3f5f\", \"arrowhead\": 0, \"arrowwidth\": 1}, \"coloraxis\": {\"colorbar\": {\"outlinewidth\": 0, \"ticks\": \"\"}}, \"colorscale\": {\"diverging\": [[0, \"#8e0152\"], [0.1, \"#c51b7d\"], [0.2, \"#de77ae\"], [0.3, \"#f1b6da\"], [0.4, \"#fde0ef\"], [0.5, \"#f7f7f7\"], [0.6, \"#e6f5d0\"], [0.7, \"#b8e186\"], [0.8, \"#7fbc41\"], [0.9, \"#4d9221\"], [1, \"#276419\"]], \"sequential\": [[0.0, \"#0d0887\"], [0.1111111111111111, \"#46039f\"], [0.2222222222222222, \"#7201a8\"], [0.3333333333333333, \"#9c179e\"], [0.4444444444444444, \"#bd3786\"], [0.5555555555555556, \"#d8576b\"], [0.6666666666666666, \"#ed7953\"], [0.7777777777777778, \"#fb9f3a\"], [0.8888888888888888, \"#fdca26\"], [1.0, \"#f0f921\"]], \"sequentialminus\": [[0.0, \"#0d0887\"], [0.1111111111111111, \"#46039f\"], [0.2222222222222222, \"#7201a8\"], [0.3333333333333333, \"#9c179e\"], [0.4444444444444444, \"#bd3786\"], [0.5555555555555556, \"#d8576b\"], [0.6666666666666666, \"#ed7953\"], [0.7777777777777778, \"#fb9f3a\"], [0.8888888888888888, \"#fdca26\"], [1.0, \"#f0f921\"]]}, \"colorway\": [\"#636efa\", \"#EF553B\", \"#00cc96\", \"#ab63fa\", \"#FFA15A\", \"#19d3f3\", \"#FF6692\", \"#B6E880\", \"#FF97FF\", \"#FECB52\"], \"font\": {\"color\": \"#2a3f5f\"}, \"geo\": {\"bgcolor\": \"white\", \"lakecolor\": \"white\", \"landcolor\": \"#E5ECF6\", \"showlakes\": true, \"showland\": true, \"subunitcolor\": \"white\"}, \"hoverlabel\": {\"align\": \"left\"}, \"hovermode\": \"closest\", \"mapbox\": {\"style\": \"light\"}, \"paper_bgcolor\": \"white\", \"plot_bgcolor\": \"#E5ECF6\", \"polar\": {\"angularaxis\": {\"gridcolor\": \"white\", \"linecolor\": \"white\", \"ticks\": \"\"}, \"bgcolor\": \"#E5ECF6\", \"radialaxis\": {\"gridcolor\": \"white\", \"linecolor\": \"white\", \"ticks\": \"\"}}, \"scene\": {\"xaxis\": {\"backgroundcolor\": \"#E5ECF6\", \"gridcolor\": \"white\", \"gridwidth\": 2, \"linecolor\": \"white\", \"showbackground\": true, \"ticks\": \"\", \"zerolinecolor\": \"white\"}, \"yaxis\": {\"backgroundcolor\": \"#E5ECF6\", \"gridcolor\": \"white\", \"gridwidth\": 2, \"linecolor\": \"white\", \"showbackground\": true, \"ticks\": \"\", \"zerolinecolor\": \"white\"}, \"zaxis\": {\"backgroundcolor\": \"#E5ECF6\", \"gridcolor\": \"white\", \"gridwidth\": 2, \"linecolor\": \"white\", \"showbackground\": true, \"ticks\": \"\", \"zerolinecolor\": \"white\"}}, \"shapedefaults\": {\"line\": {\"color\": \"#2a3f5f\"}}, \"ternary\": {\"aaxis\": {\"gridcolor\": \"white\", \"linecolor\": \"white\", \"ticks\": \"\"}, \"baxis\": {\"gridcolor\": \"white\", \"linecolor\": \"white\", \"ticks\": \"\"}, \"bgcolor\": \"#E5ECF6\", \"caxis\": {\"gridcolor\": \"white\", \"linecolor\": \"white\", \"ticks\": \"\"}}, \"title\": {\"x\": 0.05}, \"xaxis\": {\"automargin\": true, \"gridcolor\": \"white\", \"linecolor\": \"white\", \"ticks\": \"\", \"title\": {\"standoff\": 15}, \"zerolinecolor\": \"white\", \"zerolinewidth\": 2}, \"yaxis\": {\"automargin\": true, \"gridcolor\": \"white\", \"linecolor\": \"white\", \"ticks\": \"\", \"title\": {\"standoff\": 15}, \"zerolinecolor\": \"white\", \"zerolinewidth\": 2}}}, \"title\": {\"text\": \"BITCOIN CANDLESTICK CHART OVER PAST 30 DAYS\"}, \"xaxis\": {\"title\": {\"text\": \"Date\"}}, \"yaxis\": {\"title\": {\"text\": \"Price(INR)\"}}},\n",
              "                        {\"responsive\": true}\n",
              "                    ).then(function(){\n",
              "                            \n",
              "var gd = document.getElementById('47a49d09-421b-4414-9177-bbc49b58afb6');\n",
              "var x = new MutationObserver(function (mutations, observer) {{\n",
              "        var display = window.getComputedStyle(gd).display;\n",
              "        if (!display || display === 'none') {{\n",
              "            console.log([gd, 'removed!']);\n",
              "            Plotly.purge(gd);\n",
              "            observer.disconnect();\n",
              "        }}\n",
              "}});\n",
              "\n",
              "// Listen for the removal of the full notebook cells\n",
              "var notebookContainer = gd.closest('#notebook-container');\n",
              "if (notebookContainer) {{\n",
              "    x.observe(notebookContainer, {childList: true});\n",
              "}}\n",
              "\n",
              "// Listen for the clearing of the current output cell\n",
              "var outputEl = gd.closest('.output');\n",
              "if (outputEl) {{\n",
              "    x.observe(outputEl, {childList: true});\n",
              "}}\n",
              "\n",
              "                        })\n",
              "                };\n",
              "                \n",
              "            </script>\n",
              "        </div>\n",
              "</body>\n",
              "</html>"
            ]
          },
          "metadata": {
            "tags": []
          }
        }
      ]
    },
    {
      "cell_type": "markdown",
      "metadata": {
        "id": "c4_V2u4KAw2y"
      },
      "source": [
        "#Visualizing Data"
      ]
    },
    {
      "cell_type": "code",
      "metadata": {
        "colab": {
          "base_uri": "https://localhost:8080/",
          "height": 313
        },
        "id": "1xU__DqxmjAe",
        "outputId": "50b29eb4-48e4-4d56-9e53-6648bd1d8863"
      },
      "source": [
        "plt.plot(df[\"Timestamp\"],df[\"Price\"])\n",
        "plt.title(\"Bitcoin Price over time\", size=25)\n",
        "plt.xlabel(\"Time\", size=20)\n",
        "plt.ylabel(\"INR Price\", size=20)\n",
        "plt.show()"
      ],
      "execution_count": null,
      "outputs": [
        {
          "output_type": "display_data",
          "data": {
            "image/png": "[encoded data removed]",
            "text/plain": [
              "<Figure size 432x288 with 1 Axes>"
            ]
          },
          "metadata": {
            "tags": [],
            "needs_background": "light"
          }
        }
      ]
    },
    {
      "cell_type": "markdown",
      "metadata": {
        "id": "VpzOo9AHA1Ry"
      },
      "source": [
        "#Data Preprocessing"
      ]
    },
    {
      "cell_type": "code",
      "metadata": {
        "colab": {
          "base_uri": "https://localhost:8080/",
          "height": 1000
        },
        "id": "JXMnvHItohgz",
        "outputId": "f61c058b-597d-4ddc-a081-e6381648322f"
      },
      "source": [
        "df.groupby(df.Date.dt.date).agg({\"Price\":['min','max','first','last']}).reset_index().to_csv('candlestick_data.csv')\n",
        "data = pd.read_csv(\"candlestick_data.csv\")\n",
        "data.drop(\"Unnamed: 0\",axis=1,inplace=True)\n",
        "data.drop(labels=0, axis=0,inplace = True)\n",
        "data.rename(columns= {'Price':'min','Price.1':'max','Price.2':'first','Price.3':'last'})\n"
      ],
      "execution_count": null,
      "outputs": [
        {
          "output_type": "execute_result",
          "data": {
            "text/html": [
              "<div>\n",
              "<style scoped>\n",
              "    .dataframe tbody tr th:only-of-type {\n",
              "        vertical-align: middle;\n",
              "    }\n",
              "\n",
              "    .dataframe tbody tr th {\n",
              "        vertical-align: top;\n",
              "    }\n",
              "\n",
              "    .dataframe thead th {\n",
              "        text-align: right;\n",
              "    }\n",
              "</style>\n",
              "<table border=\"1\" class=\"dataframe\">\n",
              "  <thead>\n",
              "    <tr style=\"text-align: right;\">\n",
              "      <th></th>\n",
              "      <th>Date</th>\n",
              "      <th>min</th>\n",
              "      <th>max</th>\n",
              "      <th>first</th>\n",
              "      <th>last</th>\n",
              "    </tr>\n",
              "  </thead>\n",
              "  <tbody>\n",
              "    <tr>\n",
              "      <th>1</th>\n",
              "      <td>2021-07-11</td>\n",
              "      <td>2529399.980395044</td>\n",
              "      <td>2577340.5311838095</td>\n",
              "      <td>2539668.3310001097</td>\n",
              "      <td>2567269.606779768</td>\n",
              "    </tr>\n",
              "    <tr>\n",
              "      <th>2</th>\n",
              "      <td>2021-07-12</td>\n",
              "      <td>2450419.563641706</td>\n",
              "      <td>2577025.935604856</td>\n",
              "      <td>2554899.299722558</td>\n",
              "      <td>2471279.9526514392</td>\n",
              "    </tr>\n",
              "    <tr>\n",
              "      <th>3</th>\n",
              "      <td>2021-07-13</td>\n",
              "      <td>2419705.4339503534</td>\n",
              "      <td>2482480.4279240947</td>\n",
              "      <td>2479321.773220109</td>\n",
              "      <td>2431828.032303076</td>\n",
              "    </tr>\n",
              "    <tr>\n",
              "      <th>4</th>\n",
              "      <td>2021-07-14</td>\n",
              "      <td>2376884.3494762843</td>\n",
              "      <td>2464510.418891882</td>\n",
              "      <td>2443513.348937644</td>\n",
              "      <td>2464510.418891882</td>\n",
              "    </tr>\n",
              "    <tr>\n",
              "      <th>5</th>\n",
              "      <td>2021-07-15</td>\n",
              "      <td>2338864.4474720014</td>\n",
              "      <td>2466474.0937076234</td>\n",
              "      <td>2448440.4991061375</td>\n",
              "      <td>2374443.1958935303</td>\n",
              "    </tr>\n",
              "    <tr>\n",
              "      <th>6</th>\n",
              "      <td>2021-07-16</td>\n",
              "      <td>2325825.214673709</td>\n",
              "      <td>2401963.3663749355</td>\n",
              "      <td>2362224.393214125</td>\n",
              "      <td>2358533.407035554</td>\n",
              "    </tr>\n",
              "    <tr>\n",
              "      <th>7</th>\n",
              "      <td>2021-07-17</td>\n",
              "      <td>2338990.9584086286</td>\n",
              "      <td>2386196.511552602</td>\n",
              "      <td>2343770.606656084</td>\n",
              "      <td>2366152.603130841</td>\n",
              "    </tr>\n",
              "    <tr>\n",
              "      <th>8</th>\n",
              "      <td>2021-07-18</td>\n",
              "      <td>2333125.424207806</td>\n",
              "      <td>2406092.7862069057</td>\n",
              "      <td>2357494.131597727</td>\n",
              "      <td>2358342.0089921574</td>\n",
              "    </tr>\n",
              "    <tr>\n",
              "      <th>9</th>\n",
              "      <td>2021-07-19</td>\n",
              "      <td>2298496.4856761973</td>\n",
              "      <td>2388070.804324445</td>\n",
              "      <td>2381072.993983235</td>\n",
              "      <td>2322268.385549079</td>\n",
              "    </tr>\n",
              "    <tr>\n",
              "      <th>10</th>\n",
              "      <td>2021-07-20</td>\n",
              "      <td>2205991.591657621</td>\n",
              "      <td>2322932.6646075826</td>\n",
              "      <td>2319419.251592374</td>\n",
              "      <td>2205991.591657621</td>\n",
              "    </tr>\n",
              "    <tr>\n",
              "      <th>11</th>\n",
              "      <td>2021-07-21</td>\n",
              "      <td>2211698.3946110266</td>\n",
              "      <td>2403131.7281753016</td>\n",
              "      <td>2229603.7733603395</td>\n",
              "      <td>2390953.2581606973</td>\n",
              "    </tr>\n",
              "    <tr>\n",
              "      <th>12</th>\n",
              "      <td>2021-07-22</td>\n",
              "      <td>2377488.871100785</td>\n",
              "      <td>2423521.0964946607</td>\n",
              "      <td>2405444.2965573175</td>\n",
              "      <td>2402686.648646503</td>\n",
              "    </tr>\n",
              "    <tr>\n",
              "      <th>13</th>\n",
              "      <td>2021-07-23</td>\n",
              "      <td>2396213.7498678663</td>\n",
              "      <td>2484193.0807166537</td>\n",
              "      <td>2411688.1330977236</td>\n",
              "      <td>2484193.0807166537</td>\n",
              "    </tr>\n",
              "    <tr>\n",
              "      <th>14</th>\n",
              "      <td>2021-07-24</td>\n",
              "      <td>2495439.35627358</td>\n",
              "      <td>2565230.179368373</td>\n",
              "      <td>2495439.35627358</td>\n",
              "      <td>2535237.936600068</td>\n",
              "    </tr>\n",
              "    <tr>\n",
              "      <th>15</th>\n",
              "      <td>2021-07-25</td>\n",
              "      <td>2529933.2399592455</td>\n",
              "      <td>2586907.343580666</td>\n",
              "      <td>2553179.2408578633</td>\n",
              "      <td>2577219.015600615</td>\n",
              "    </tr>\n",
              "    <tr>\n",
              "      <th>16</th>\n",
              "      <td>2021-07-26</td>\n",
              "      <td>2644955.975950957</td>\n",
              "      <td>2961191.9166368833</td>\n",
              "      <td>2644955.975950957</td>\n",
              "      <td>2779453.4473534254</td>\n",
              "    </tr>\n",
              "    <tr>\n",
              "      <th>17</th>\n",
              "      <td>2021-07-27</td>\n",
              "      <td>2716812.1642310116</td>\n",
              "      <td>2927068.9329645354</td>\n",
              "      <td>2765558.992140168</td>\n",
              "      <td>2927068.9329645354</td>\n",
              "    </tr>\n",
              "    <tr>\n",
              "      <th>18</th>\n",
              "      <td>2021-07-28</td>\n",
              "      <td>2865182.7090024347</td>\n",
              "      <td>3039393.0444464246</td>\n",
              "      <td>2912983.673856355</td>\n",
              "      <td>2959642.0794794974</td>\n",
              "    </tr>\n",
              "    <tr>\n",
              "      <th>19</th>\n",
              "      <td>2021-07-29</td>\n",
              "      <td>2931296.058212396</td>\n",
              "      <td>3016866.215940033</td>\n",
              "      <td>2977930.484923262</td>\n",
              "      <td>2957892.201119601</td>\n",
              "    </tr>\n",
              "    <tr>\n",
              "      <th>20</th>\n",
              "      <td>2021-07-30</td>\n",
              "      <td>2878809.2631042674</td>\n",
              "      <td>3107589.7808810193</td>\n",
              "      <td>2968222.5228032945</td>\n",
              "      <td>3072950.5823926674</td>\n",
              "    </tr>\n",
              "    <tr>\n",
              "      <th>21</th>\n",
              "      <td>2021-07-31</td>\n",
              "      <td>3063856.832614007</td>\n",
              "      <td>3121315.4738402073</td>\n",
              "      <td>3119189.773400975</td>\n",
              "      <td>3114571.976331518</td>\n",
              "    </tr>\n",
              "    <tr>\n",
              "      <th>22</th>\n",
              "      <td>2021-08-01</td>\n",
              "      <td>2997438.4013854847</td>\n",
              "      <td>3170677.956155205</td>\n",
              "      <td>3101582.3456515432</td>\n",
              "      <td>2997438.4013854847</td>\n",
              "    </tr>\n",
              "    <tr>\n",
              "      <th>23</th>\n",
              "      <td>2021-08-02</td>\n",
              "      <td>2889139.5293153734</td>\n",
              "      <td>3018848.352225121</td>\n",
              "      <td>2974071.496060843</td>\n",
              "      <td>2933243.3265739917</td>\n",
              "    </tr>\n",
              "    <tr>\n",
              "      <th>24</th>\n",
              "      <td>2021-08-03</td>\n",
              "      <td>2826450.202349981</td>\n",
              "      <td>2956045.3326843544</td>\n",
              "      <td>2919675.5959617705</td>\n",
              "      <td>2850448.702161303</td>\n",
              "    </tr>\n",
              "    <tr>\n",
              "      <th>25</th>\n",
              "      <td>2021-08-04</td>\n",
              "      <td>2800154.2624085364</td>\n",
              "      <td>2957971.732039041</td>\n",
              "      <td>2833198.6671699663</td>\n",
              "      <td>2942379.361250551</td>\n",
              "    </tr>\n",
              "    <tr>\n",
              "      <th>26</th>\n",
              "      <td>2021-08-05</td>\n",
              "      <td>2787305.434449496</td>\n",
              "      <td>3033406.2710967553</td>\n",
              "      <td>2950017.505623539</td>\n",
              "      <td>3030635.3693434205</td>\n",
              "    </tr>\n",
              "    <tr>\n",
              "      <th>27</th>\n",
              "      <td>2021-08-06</td>\n",
              "      <td>2954333.934273247</td>\n",
              "      <td>3200482.1042109914</td>\n",
              "      <td>3023100.7121892213</td>\n",
              "      <td>3167692.3112901757</td>\n",
              "    </tr>\n",
              "    <tr>\n",
              "      <th>28</th>\n",
              "      <td>2021-08-07</td>\n",
              "      <td>3178543.3647654927</td>\n",
              "      <td>3275139.310097068</td>\n",
              "      <td>3178543.3647654927</td>\n",
              "      <td>3263714.2620563717</td>\n",
              "    </tr>\n",
              "    <tr>\n",
              "      <th>29</th>\n",
              "      <td>2021-08-08</td>\n",
              "      <td>3245380.6087625045</td>\n",
              "      <td>3351167.1430120324</td>\n",
              "      <td>3303451.488669392</td>\n",
              "      <td>3298449.3405789514</td>\n",
              "    </tr>\n",
              "    <tr>\n",
              "      <th>30</th>\n",
              "      <td>2021-08-09</td>\n",
              "      <td>3207228.5036475193</td>\n",
              "      <td>3456671.360199386</td>\n",
              "      <td>3259249.2163851284</td>\n",
              "      <td>3440933.198877483</td>\n",
              "    </tr>\n",
              "    <tr>\n",
              "      <th>31</th>\n",
              "      <td>2021-08-10</td>\n",
              "      <td>3361388.4683256093</td>\n",
              "      <td>3448616.092574294</td>\n",
              "      <td>3448616.092574294</td>\n",
              "      <td>3361388.4683256093</td>\n",
              "    </tr>\n",
              "  </tbody>\n",
              "</table>\n",
              "</div>"
            ],
            "text/plain": [
              "          Date                 min  ...               first                last\n",
              "1   2021-07-11   2529399.980395044  ...  2539668.3310001097   2567269.606779768\n",
              "2   2021-07-12   2450419.563641706  ...   2554899.299722558  2471279.9526514392\n",
              "3   2021-07-13  2419705.4339503534  ...   2479321.773220109   2431828.032303076\n",
              "4   2021-07-14  2376884.3494762843  ...   2443513.348937644   2464510.418891882\n",
              "5   2021-07-15  2338864.4474720014  ...  2448440.4991061375  2374443.1958935303\n",
              "6   2021-07-16   2325825.214673709  ...   2362224.393214125   2358533.407035554\n",
              "7   2021-07-17  2338990.9584086286  ...   2343770.606656084   2366152.603130841\n",
              "8   2021-07-18   2333125.424207806  ...   2357494.131597727  2358342.0089921574\n",
              "9   2021-07-19  2298496.4856761973  ...   2381072.993983235   2322268.385549079\n",
              "10  2021-07-20   2205991.591657621  ...   2319419.251592374   2205991.591657621\n",
              "11  2021-07-21  2211698.3946110266  ...  2229603.7733603395  2390953.2581606973\n",
              "12  2021-07-22   2377488.871100785  ...  2405444.2965573175   2402686.648646503\n",
              "13  2021-07-23  2396213.7498678663  ...  2411688.1330977236  2484193.0807166537\n",
              "14  2021-07-24    2495439.35627358  ...    2495439.35627358   2535237.936600068\n",
              "15  2021-07-25  2529933.2399592455  ...  2553179.2408578633   2577219.015600615\n",
              "16  2021-07-26   2644955.975950957  ...   2644955.975950957  2779453.4473534254\n",
              "17  2021-07-27  2716812.1642310116  ...   2765558.992140168  2927068.9329645354\n",
              "18  2021-07-28  2865182.7090024347  ...   2912983.673856355  2959642.0794794974\n",
              "19  2021-07-29   2931296.058212396  ...   2977930.484923262   2957892.201119601\n",
              "20  2021-07-30  2878809.2631042674  ...  2968222.5228032945  3072950.5823926674\n",
              "21  2021-07-31   3063856.832614007  ...   3119189.773400975   3114571.976331518\n",
              "22  2021-08-01  2997438.4013854847  ...  3101582.3456515432  2997438.4013854847\n",
              "23  2021-08-02  2889139.5293153734  ...   2974071.496060843  2933243.3265739917\n",
              "24  2021-08-03   2826450.202349981  ...  2919675.5959617705   2850448.702161303\n",
              "25  2021-08-04  2800154.2624085364  ...  2833198.6671699663   2942379.361250551\n",
              "26  2021-08-05   2787305.434449496  ...   2950017.505623539  3030635.3693434205\n",
              "27  2021-08-06   2954333.934273247  ...  3023100.7121892213  3167692.3112901757\n",
              "28  2021-08-07  3178543.3647654927  ...  3178543.3647654927  3263714.2620563717\n",
              "29  2021-08-08  3245380.6087625045  ...   3303451.488669392  3298449.3405789514\n",
              "30  2021-08-09  3207228.5036475193  ...  3259249.2163851284   3440933.198877483\n",
              "31  2021-08-10  3361388.4683256093  ...   3448616.092574294  3361388.4683256093\n",
              "\n",
              "[31 rows x 5 columns]"
            ]
          },
          "metadata": {
            "tags": []
          },
          "execution_count": 27
        }
      ]
    },
    {
      "cell_type": "code",
      "metadata": {
        "id": "zI5rZdfZzRw6"
      },
      "source": [
        "x = data.iloc[:,1:4]\n",
        "y = data.iloc[:,-1]"
      ],
      "execution_count": null,
      "outputs": []
    },
    {
      "cell_type": "markdown",
      "metadata": {
        "id": "KjeEMAqcBBTH"
      },
      "source": [
        "# Splitting the data "
      ]
    },
    {
      "cell_type": "code",
      "metadata": {
        "id": "tSJiPhGJ1oS3"
      },
      "source": [
        "x_train,x_test,y_train,y_test = model_selection.train_test_split(x,y,random_state = 0,test_size = 0.20)"
      ],
      "execution_count": null,
      "outputs": []
    },
    {
      "cell_type": "markdown",
      "metadata": {
        "id": "WLuNGYlGBGCE"
      },
      "source": [
        "# Fitting Data"
      ]
    },
    {
      "cell_type": "code",
      "metadata": {
        "colab": {
          "base_uri": "https://localhost:8080/"
        },
        "id": "GaEYqM4M1uro",
        "outputId": "89a10fb5-1efc-4d82-c6e5-ab932572d0f9"
      },
      "source": [
        "alg = LinearRegression()\n",
        "alg.fit(x_train,y_train)\n",
        "y_pred = alg.predict(x_test)\n",
        "y_pred"
      ],
      "execution_count": null,
      "outputs": [
        {
          "output_type": "execute_result",
          "data": {
            "text/plain": [
              "array([2440347.71877484, 3368461.60125782, 2554805.99358807,\n",
              "       2342643.25502977, 3262727.06395124, 2880771.96701016,\n",
              "       2946308.40952975])"
            ]
          },
          "metadata": {
            "tags": []
          },
          "execution_count": 30
        }
      ]
    },
    {
      "cell_type": "markdown",
      "metadata": {
        "id": "KevfgMSiBKBT"
      },
      "source": [
        "#Coefficient of determination(Score)"
      ]
    },
    {
      "cell_type": "code",
      "metadata": {
        "colab": {
          "base_uri": "https://localhost:8080/"
        },
        "id": "iS6jSLYN1-fl",
        "outputId": "2038c07a-ad53-4e39-f138-fc0cf89441d4"
      },
      "source": [
        "alg.score(x_test,y_test)"
      ],
      "execution_count": null,
      "outputs": [
        {
          "output_type": "execute_result",
          "data": {
            "text/plain": [
              "0.9706134665345598"
            ]
          },
          "metadata": {
            "tags": []
          },
          "execution_count": 31
        }
      ]
    },
    {
      "cell_type": "markdown",
      "metadata": {
        "id": "30ZwL5oTBSSi"
      },
      "source": [
        "# Visualizing Predictions"
      ]
    },
    {
      "cell_type": "code",
      "metadata": {
        "colab": {
          "base_uri": "https://localhost:8080/",
          "height": 331
        },
        "id": "UAgEKSRs3IZP",
        "outputId": "d114fc81-2985-426b-8743-b22354614f00"
      },
      "source": [
        "plt.scatter(y_test,y_pred)\n",
        "plt.tick_params(axis='x', rotation = 30)"
      ],
      "execution_count": null,
      "outputs": [
        {
          "output_type": "display_data",
          "data": {
            "image/png": "[encoded data removed]",
            "text/plain": [
              "<Figure size 432x288 with 1 Axes>"
            ]
          },
          "metadata": {
            "tags": [],
            "needs_background": "light"
          }
        }
      ]
    },
    {
      "cell_type": "markdown",
      "metadata": {
        "id": "BGs3fSPNBWqy"
      },
      "source": [
        "# Evaluating Model"
      ]
    },
    {
      "cell_type": "code",
      "metadata": {
        "colab": {
          "base_uri": "https://localhost:8080/"
        },
        "id": "U1yyb4DD1j0y",
        "outputId": "f7af20c6-8f6b-4e59-a87a-b0c00a32663c"
      },
      "source": [
        "\n",
        "mse = mean_squared_error(y_test,y_pred)\n",
        "print(\"Mean Square Error: \",mse)\n",
        "rmse = np.sqrt(mse)\n",
        "print(\"Root Mean Square Error: \",rmse)\n",
        "r2 = r2_score(y_test, y_pred)\n",
        "print(\"R2 Score : \", r2*100,\"%\")"
      ],
      "execution_count": null,
      "outputs": [
        {
          "output_type": "stream",
          "text": [
            "Mean Square Error:  4381741869.651401\n",
            "Root Mean Square Error:  66194.72690215892\n",
            "R2 Score :  97.06134665345598 %\n"
          ],
          "name": "stdout"
        }
      ]
    },
    {
      "cell_type": "markdown",
      "metadata": {
        "id": "Dvx-ckK2oLs4"
      },
      "source": [
        "# Custom Prediction"
      ]
    },
    {
      "cell_type": "code",
      "metadata": {
        "colab": {
          "base_uri": "https://localhost:8080/"
        },
        "id": "ri533bUYnkDk",
        "outputId": "97c677d8-a38e-44a3-f760-52e719c73564"
      },
      "source": [
        "alg.predict([[3361388.4683256093,\t3448616.092574294,\t3448616.092574294\t]])\n"
      ],
      "execution_count": null,
      "outputs": [
        {
          "output_type": "execute_result",
          "data": {
            "text/plain": [
              "array([3392230.23588212])"
            ]
          },
          "metadata": {
            "tags": []
          },
          "execution_count": 35
        }
      ]
    }
  ]
}