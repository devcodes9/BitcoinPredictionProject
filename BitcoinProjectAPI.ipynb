{
  "nbformat": 4,
  "nbformat_minor": 0,
  "metadata": {
    "colab": {
      "name": "BitcoinProjectAPI.ipynb",
      "provenance": [],
      "collapsed_sections": [],
      "authorship_tag": "ABX9TyOgOIs6aIKtvmRH0rykint2",
      "include_colab_link": true
    },
    "kernelspec": {
      "name": "python3",
      "display_name": "Python 3"
    },
    "language_info": {
      "name": "python"
    }
  },
  "cells": [
    {
      "cell_type": "markdown",
      "metadata": {
        "id": "view-in-github",
        "colab_type": "text"
      },
      "source": [
        "<a href=\"https://colab.research.google.com/github/devcodes9/BitcoinPredictionProject/blob/main/BitcoinProjectAPI.ipynb\" target=\"_parent\"><img src=\"https://colab.research.google.com/assets/colab-badge.svg\" alt=\"Open In Colab\"/></a>"
      ]
    },
    {
      "cell_type": "markdown",
      "metadata": {
        "id": "J7tKi7xpAJir"
      },
      "source": [
        "#Getting Bitcoin data(past 30 days) from CoinGeckoAPI"
      ]
    },
    {
      "cell_type": "code",
      "metadata": {
        "colab": {
          "base_uri": "https://localhost:8080/"
        },
        "id": "ENyMDodx3WRi",
        "outputId": "d3ebec31-22b5-4713-d329-984803fae099"
      },
      "source": [
        "!pip install pycoingecko\n",
        "from pycoingecko import CoinGeckoAPI\n",
        "cg = CoinGeckoAPI()\n",
        "bitcoin_data = cg.get_coin_market_chart_by_id(id = \"bitcoin\",vs_currency= \"inr\",days = \"30\")"
      ],
      "execution_count": 37,
      "outputs": [
        {
          "output_type": "stream",
          "text": [
            "Requirement already satisfied: pycoingecko in /usr/local/lib/python3.7/dist-packages (2.2.0)\n",
            "Requirement already satisfied: requests in /usr/local/lib/python3.7/dist-packages (from pycoingecko) (2.23.0)\n",
            "Requirement already satisfied: chardet<4,>=3.0.2 in /usr/local/lib/python3.7/dist-packages (from requests->pycoingecko) (3.0.4)\n",
            "Requirement already satisfied: idna<3,>=2.5 in /usr/local/lib/python3.7/dist-packages (from requests->pycoingecko) (2.10)\n",
            "Requirement already satisfied: certifi>=2017.4.17 in /usr/local/lib/python3.7/dist-packages (from requests->pycoingecko) (2021.5.30)\n",
            "Requirement already satisfied: urllib3!=1.25.0,!=1.25.1,<1.26,>=1.21.1 in /usr/local/lib/python3.7/dist-packages (from requests->pycoingecko) (1.24.3)\n"
          ],
          "name": "stdout"
        }
      ]
    },
    {
      "cell_type": "markdown",
      "metadata": {
        "id": "3P9RMDv7AYqC"
      },
      "source": [
        "#Imports"
      ]
    },
    {
      "cell_type": "code",
      "metadata": {
        "id": "IErtQvg2_MGZ"
      },
      "source": [
        "import matplotlib.pyplot as plt\n",
        "import pandas as pd\n",
        "import plotly.graph_objects as go\n",
        "from datetime import datetime\n",
        "import matplotlib.pyplot as plt\n",
        "from sklearn import model_selection\n",
        "from sklearn.linear_model import LinearRegression\n",
        "from sklearn.metrics import mean_squared_error, r2_score\n",
        "import numpy as np"
      ],
      "execution_count": 24,
      "outputs": []
    },
    {
      "cell_type": "code",
      "metadata": {
        "colab": {
          "base_uri": "https://localhost:8080/",
          "height": 417
        },
        "id": "_ZPMHdeH4nHt",
        "outputId": "a169107b-ebea-4bdb-a880-35f18ee1ea98"
      },
      "source": [
        "df = pd.DataFrame(bitcoin_data[\"prices\"],columns = [\"Timestamp\",\"Price\"])\n",
        "df[\"Date\"] = pd.to_datetime(df[\"Timestamp\"], unit = 'ms')\n",
        "df"
      ],
      "execution_count": 25,
      "outputs": [
        {
          "output_type": "execute_result",
          "data": {
            "text/html": [
              "<div>\n",
              "<style scoped>\n",
              "    .dataframe tbody tr th:only-of-type {\n",
              "        vertical-align: middle;\n",
              "    }\n",
              "\n",
              "    .dataframe tbody tr th {\n",
              "        vertical-align: top;\n",
              "    }\n",
              "\n",
              "    .dataframe thead th {\n",
              "        text-align: right;\n",
              "    }\n",
              "</style>\n",
              "<table border=\"1\" class=\"dataframe\">\n",
              "  <thead>\n",
              "    <tr style=\"text-align: right;\">\n",
              "      <th></th>\n",
              "      <th>Timestamp</th>\n",
              "      <th>Price</th>\n",
              "      <th>Date</th>\n",
              "    </tr>\n",
              "  </thead>\n",
              "  <tbody>\n",
              "    <tr>\n",
              "      <th>0</th>\n",
              "      <td>1624629654637</td>\n",
              "      <td>2.454210e+06</td>\n",
              "      <td>2021-06-25 14:00:54.637</td>\n",
              "    </tr>\n",
              "    <tr>\n",
              "      <th>1</th>\n",
              "      <td>1624633255360</td>\n",
              "      <td>2.427742e+06</td>\n",
              "      <td>2021-06-25 15:00:55.360</td>\n",
              "    </tr>\n",
              "    <tr>\n",
              "      <th>2</th>\n",
              "      <td>1624636851247</td>\n",
              "      <td>2.435552e+06</td>\n",
              "      <td>2021-06-25 16:00:51.247</td>\n",
              "    </tr>\n",
              "    <tr>\n",
              "      <th>3</th>\n",
              "      <td>1624640467722</td>\n",
              "      <td>2.368178e+06</td>\n",
              "      <td>2021-06-25 17:01:07.722</td>\n",
              "    </tr>\n",
              "    <tr>\n",
              "      <th>4</th>\n",
              "      <td>1624644076874</td>\n",
              "      <td>2.352213e+06</td>\n",
              "      <td>2021-06-25 18:01:16.874</td>\n",
              "    </tr>\n",
              "    <tr>\n",
              "      <th>...</th>\n",
              "      <td>...</td>\n",
              "      <td>...</td>\n",
              "      <td>...</td>\n",
              "    </tr>\n",
              "    <tr>\n",
              "      <th>716</th>\n",
              "      <td>1627207262396</td>\n",
              "      <td>2.573918e+06</td>\n",
              "      <td>2021-07-25 10:01:02.396</td>\n",
              "    </tr>\n",
              "    <tr>\n",
              "      <th>717</th>\n",
              "      <td>1627210820365</td>\n",
              "      <td>2.558730e+06</td>\n",
              "      <td>2021-07-25 11:00:20.365</td>\n",
              "    </tr>\n",
              "    <tr>\n",
              "      <th>718</th>\n",
              "      <td>1627214405425</td>\n",
              "      <td>2.563636e+06</td>\n",
              "      <td>2021-07-25 12:00:05.425</td>\n",
              "    </tr>\n",
              "    <tr>\n",
              "      <th>719</th>\n",
              "      <td>1627218149167</td>\n",
              "      <td>2.555598e+06</td>\n",
              "      <td>2021-07-25 13:02:29.167</td>\n",
              "    </tr>\n",
              "    <tr>\n",
              "      <th>720</th>\n",
              "      <td>1627221465000</td>\n",
              "      <td>2.550545e+06</td>\n",
              "      <td>2021-07-25 13:57:45.000</td>\n",
              "    </tr>\n",
              "  </tbody>\n",
              "</table>\n",
              "<p>721 rows × 3 columns</p>\n",
              "</div>"
            ],
            "text/plain": [
              "         Timestamp         Price                    Date\n",
              "0    1624629654637  2.454210e+06 2021-06-25 14:00:54.637\n",
              "1    1624633255360  2.427742e+06 2021-06-25 15:00:55.360\n",
              "2    1624636851247  2.435552e+06 2021-06-25 16:00:51.247\n",
              "3    1624640467722  2.368178e+06 2021-06-25 17:01:07.722\n",
              "4    1624644076874  2.352213e+06 2021-06-25 18:01:16.874\n",
              "..             ...           ...                     ...\n",
              "716  1627207262396  2.573918e+06 2021-07-25 10:01:02.396\n",
              "717  1627210820365  2.558730e+06 2021-07-25 11:00:20.365\n",
              "718  1627214405425  2.563636e+06 2021-07-25 12:00:05.425\n",
              "719  1627218149167  2.555598e+06 2021-07-25 13:02:29.167\n",
              "720  1627221465000  2.550545e+06 2021-07-25 13:57:45.000\n",
              "\n",
              "[721 rows x 3 columns]"
            ]
          },
          "metadata": {
            "tags": []
          },
          "execution_count": 25
        }
      ]
    },
    {
      "cell_type": "markdown",
      "metadata": {
        "id": "ZcEAYtnCAjcR"
      },
      "source": [
        "#Grouping Data"
      ]
    },
    {
      "cell_type": "code",
      "metadata": {
        "colab": {
          "base_uri": "https://localhost:8080/",
          "height": 1000
        },
        "id": "Gxia0lpx5sdf",
        "outputId": "56363a04-609c-40b8-879b-6181c07332c5"
      },
      "source": [
        "candlestick_data = df.groupby(df.Date.dt.date).agg({\"Price\":['min','max','first','last']})\n",
        "candlestick_data"
      ],
      "execution_count": 26,
      "outputs": [
        {
          "output_type": "execute_result",
          "data": {
            "text/html": [
              "<div>\n",
              "<style scoped>\n",
              "    .dataframe tbody tr th:only-of-type {\n",
              "        vertical-align: middle;\n",
              "    }\n",
              "\n",
              "    .dataframe tbody tr th {\n",
              "        vertical-align: top;\n",
              "    }\n",
              "\n",
              "    .dataframe thead tr th {\n",
              "        text-align: left;\n",
              "    }\n",
              "\n",
              "    .dataframe thead tr:last-of-type th {\n",
              "        text-align: right;\n",
              "    }\n",
              "</style>\n",
              "<table border=\"1\" class=\"dataframe\">\n",
              "  <thead>\n",
              "    <tr>\n",
              "      <th></th>\n",
              "      <th colspan=\"4\" halign=\"left\">Price</th>\n",
              "    </tr>\n",
              "    <tr>\n",
              "      <th></th>\n",
              "      <th>min</th>\n",
              "      <th>max</th>\n",
              "      <th>first</th>\n",
              "      <th>last</th>\n",
              "    </tr>\n",
              "    <tr>\n",
              "      <th>Date</th>\n",
              "      <th></th>\n",
              "      <th></th>\n",
              "      <th></th>\n",
              "      <th></th>\n",
              "    </tr>\n",
              "  </thead>\n",
              "  <tbody>\n",
              "    <tr>\n",
              "      <th>2021-06-25</th>\n",
              "      <td>2.336596e+06</td>\n",
              "      <td>2.454210e+06</td>\n",
              "      <td>2.454210e+06</td>\n",
              "      <td>2.336596e+06</td>\n",
              "    </tr>\n",
              "    <tr>\n",
              "      <th>2021-06-26</th>\n",
              "      <td>2.236010e+06</td>\n",
              "      <td>2.401578e+06</td>\n",
              "      <td>2.369665e+06</td>\n",
              "      <td>2.364260e+06</td>\n",
              "    </tr>\n",
              "    <tr>\n",
              "      <th>2021-06-27</th>\n",
              "      <td>2.375662e+06</td>\n",
              "      <td>2.561059e+06</td>\n",
              "      <td>2.375662e+06</td>\n",
              "      <td>2.561059e+06</td>\n",
              "    </tr>\n",
              "    <tr>\n",
              "      <th>2021-06-28</th>\n",
              "      <td>2.536452e+06</td>\n",
              "      <td>2.610054e+06</td>\n",
              "      <td>2.569861e+06</td>\n",
              "      <td>2.559684e+06</td>\n",
              "    </tr>\n",
              "    <tr>\n",
              "      <th>2021-06-29</th>\n",
              "      <td>2.554662e+06</td>\n",
              "      <td>2.704052e+06</td>\n",
              "      <td>2.567077e+06</td>\n",
              "      <td>2.688410e+06</td>\n",
              "    </tr>\n",
              "    <tr>\n",
              "      <th>2021-06-30</th>\n",
              "      <td>2.546037e+06</td>\n",
              "      <td>2.676840e+06</td>\n",
              "      <td>2.672059e+06</td>\n",
              "      <td>2.588150e+06</td>\n",
              "    </tr>\n",
              "    <tr>\n",
              "      <th>2021-07-01</th>\n",
              "      <td>2.464709e+06</td>\n",
              "      <td>2.615846e+06</td>\n",
              "      <td>2.615846e+06</td>\n",
              "      <td>2.511287e+06</td>\n",
              "    </tr>\n",
              "    <tr>\n",
              "      <th>2021-07-02</th>\n",
              "      <td>2.454481e+06</td>\n",
              "      <td>2.520605e+06</td>\n",
              "      <td>2.509357e+06</td>\n",
              "      <td>2.516615e+06</td>\n",
              "    </tr>\n",
              "    <tr>\n",
              "      <th>2021-07-03</th>\n",
              "      <td>2.494973e+06</td>\n",
              "      <td>2.600585e+06</td>\n",
              "      <td>2.528724e+06</td>\n",
              "      <td>2.577352e+06</td>\n",
              "    </tr>\n",
              "    <tr>\n",
              "      <th>2021-07-04</th>\n",
              "      <td>2.574485e+06</td>\n",
              "      <td>2.682163e+06</td>\n",
              "      <td>2.591166e+06</td>\n",
              "      <td>2.640484e+06</td>\n",
              "    </tr>\n",
              "    <tr>\n",
              "      <th>2021-07-05</th>\n",
              "      <td>2.488224e+06</td>\n",
              "      <td>2.636233e+06</td>\n",
              "      <td>2.636233e+06</td>\n",
              "      <td>2.539505e+06</td>\n",
              "    </tr>\n",
              "    <tr>\n",
              "      <th>2021-07-06</th>\n",
              "      <td>2.519874e+06</td>\n",
              "      <td>2.608056e+06</td>\n",
              "      <td>2.519874e+06</td>\n",
              "      <td>2.553217e+06</td>\n",
              "    </tr>\n",
              "    <tr>\n",
              "      <th>2021-07-07</th>\n",
              "      <td>2.557010e+06</td>\n",
              "      <td>2.605933e+06</td>\n",
              "      <td>2.557010e+06</td>\n",
              "      <td>2.562413e+06</td>\n",
              "    </tr>\n",
              "    <tr>\n",
              "      <th>2021-07-08</th>\n",
              "      <td>2.423946e+06</td>\n",
              "      <td>2.538884e+06</td>\n",
              "      <td>2.538884e+06</td>\n",
              "      <td>2.433949e+06</td>\n",
              "    </tr>\n",
              "    <tr>\n",
              "      <th>2021-07-09</th>\n",
              "      <td>2.420754e+06</td>\n",
              "      <td>2.537359e+06</td>\n",
              "      <td>2.460851e+06</td>\n",
              "      <td>2.537359e+06</td>\n",
              "    </tr>\n",
              "    <tr>\n",
              "      <th>2021-07-10</th>\n",
              "      <td>2.488535e+06</td>\n",
              "      <td>2.551098e+06</td>\n",
              "      <td>2.530544e+06</td>\n",
              "      <td>2.509298e+06</td>\n",
              "    </tr>\n",
              "    <tr>\n",
              "      <th>2021-07-11</th>\n",
              "      <td>2.496679e+06</td>\n",
              "      <td>2.577341e+06</td>\n",
              "      <td>2.507886e+06</td>\n",
              "      <td>2.567270e+06</td>\n",
              "    </tr>\n",
              "    <tr>\n",
              "      <th>2021-07-12</th>\n",
              "      <td>2.450420e+06</td>\n",
              "      <td>2.577026e+06</td>\n",
              "      <td>2.554899e+06</td>\n",
              "      <td>2.471280e+06</td>\n",
              "    </tr>\n",
              "    <tr>\n",
              "      <th>2021-07-13</th>\n",
              "      <td>2.419705e+06</td>\n",
              "      <td>2.482480e+06</td>\n",
              "      <td>2.479322e+06</td>\n",
              "      <td>2.431828e+06</td>\n",
              "    </tr>\n",
              "    <tr>\n",
              "      <th>2021-07-14</th>\n",
              "      <td>2.376884e+06</td>\n",
              "      <td>2.464510e+06</td>\n",
              "      <td>2.443513e+06</td>\n",
              "      <td>2.464510e+06</td>\n",
              "    </tr>\n",
              "    <tr>\n",
              "      <th>2021-07-15</th>\n",
              "      <td>2.338864e+06</td>\n",
              "      <td>2.466474e+06</td>\n",
              "      <td>2.448440e+06</td>\n",
              "      <td>2.374443e+06</td>\n",
              "    </tr>\n",
              "    <tr>\n",
              "      <th>2021-07-16</th>\n",
              "      <td>2.325825e+06</td>\n",
              "      <td>2.401963e+06</td>\n",
              "      <td>2.362224e+06</td>\n",
              "      <td>2.358533e+06</td>\n",
              "    </tr>\n",
              "    <tr>\n",
              "      <th>2021-07-17</th>\n",
              "      <td>2.338991e+06</td>\n",
              "      <td>2.386197e+06</td>\n",
              "      <td>2.343771e+06</td>\n",
              "      <td>2.366153e+06</td>\n",
              "    </tr>\n",
              "    <tr>\n",
              "      <th>2021-07-18</th>\n",
              "      <td>2.333125e+06</td>\n",
              "      <td>2.406093e+06</td>\n",
              "      <td>2.357494e+06</td>\n",
              "      <td>2.358342e+06</td>\n",
              "    </tr>\n",
              "    <tr>\n",
              "      <th>2021-07-19</th>\n",
              "      <td>2.298496e+06</td>\n",
              "      <td>2.388071e+06</td>\n",
              "      <td>2.381073e+06</td>\n",
              "      <td>2.322268e+06</td>\n",
              "    </tr>\n",
              "    <tr>\n",
              "      <th>2021-07-20</th>\n",
              "      <td>2.205992e+06</td>\n",
              "      <td>2.322933e+06</td>\n",
              "      <td>2.319419e+06</td>\n",
              "      <td>2.205992e+06</td>\n",
              "    </tr>\n",
              "    <tr>\n",
              "      <th>2021-07-21</th>\n",
              "      <td>2.211698e+06</td>\n",
              "      <td>2.403132e+06</td>\n",
              "      <td>2.229604e+06</td>\n",
              "      <td>2.390953e+06</td>\n",
              "    </tr>\n",
              "    <tr>\n",
              "      <th>2021-07-22</th>\n",
              "      <td>2.377489e+06</td>\n",
              "      <td>2.423521e+06</td>\n",
              "      <td>2.405444e+06</td>\n",
              "      <td>2.402687e+06</td>\n",
              "    </tr>\n",
              "    <tr>\n",
              "      <th>2021-07-23</th>\n",
              "      <td>2.396214e+06</td>\n",
              "      <td>2.484193e+06</td>\n",
              "      <td>2.411688e+06</td>\n",
              "      <td>2.484193e+06</td>\n",
              "    </tr>\n",
              "    <tr>\n",
              "      <th>2021-07-24</th>\n",
              "      <td>2.495439e+06</td>\n",
              "      <td>2.565230e+06</td>\n",
              "      <td>2.495439e+06</td>\n",
              "      <td>2.535238e+06</td>\n",
              "    </tr>\n",
              "    <tr>\n",
              "      <th>2021-07-25</th>\n",
              "      <td>2.529933e+06</td>\n",
              "      <td>2.586907e+06</td>\n",
              "      <td>2.553179e+06</td>\n",
              "      <td>2.550545e+06</td>\n",
              "    </tr>\n",
              "  </tbody>\n",
              "</table>\n",
              "</div>"
            ],
            "text/plain": [
              "                   Price                                          \n",
              "                     min           max         first          last\n",
              "Date                                                              \n",
              "2021-06-25  2.336596e+06  2.454210e+06  2.454210e+06  2.336596e+06\n",
              "2021-06-26  2.236010e+06  2.401578e+06  2.369665e+06  2.364260e+06\n",
              "2021-06-27  2.375662e+06  2.561059e+06  2.375662e+06  2.561059e+06\n",
              "2021-06-28  2.536452e+06  2.610054e+06  2.569861e+06  2.559684e+06\n",
              "2021-06-29  2.554662e+06  2.704052e+06  2.567077e+06  2.688410e+06\n",
              "2021-06-30  2.546037e+06  2.676840e+06  2.672059e+06  2.588150e+06\n",
              "2021-07-01  2.464709e+06  2.615846e+06  2.615846e+06  2.511287e+06\n",
              "2021-07-02  2.454481e+06  2.520605e+06  2.509357e+06  2.516615e+06\n",
              "2021-07-03  2.494973e+06  2.600585e+06  2.528724e+06  2.577352e+06\n",
              "2021-07-04  2.574485e+06  2.682163e+06  2.591166e+06  2.640484e+06\n",
              "2021-07-05  2.488224e+06  2.636233e+06  2.636233e+06  2.539505e+06\n",
              "2021-07-06  2.519874e+06  2.608056e+06  2.519874e+06  2.553217e+06\n",
              "2021-07-07  2.557010e+06  2.605933e+06  2.557010e+06  2.562413e+06\n",
              "2021-07-08  2.423946e+06  2.538884e+06  2.538884e+06  2.433949e+06\n",
              "2021-07-09  2.420754e+06  2.537359e+06  2.460851e+06  2.537359e+06\n",
              "2021-07-10  2.488535e+06  2.551098e+06  2.530544e+06  2.509298e+06\n",
              "2021-07-11  2.496679e+06  2.577341e+06  2.507886e+06  2.567270e+06\n",
              "2021-07-12  2.450420e+06  2.577026e+06  2.554899e+06  2.471280e+06\n",
              "2021-07-13  2.419705e+06  2.482480e+06  2.479322e+06  2.431828e+06\n",
              "2021-07-14  2.376884e+06  2.464510e+06  2.443513e+06  2.464510e+06\n",
              "2021-07-15  2.338864e+06  2.466474e+06  2.448440e+06  2.374443e+06\n",
              "2021-07-16  2.325825e+06  2.401963e+06  2.362224e+06  2.358533e+06\n",
              "2021-07-17  2.338991e+06  2.386197e+06  2.343771e+06  2.366153e+06\n",
              "2021-07-18  2.333125e+06  2.406093e+06  2.357494e+06  2.358342e+06\n",
              "2021-07-19  2.298496e+06  2.388071e+06  2.381073e+06  2.322268e+06\n",
              "2021-07-20  2.205992e+06  2.322933e+06  2.319419e+06  2.205992e+06\n",
              "2021-07-21  2.211698e+06  2.403132e+06  2.229604e+06  2.390953e+06\n",
              "2021-07-22  2.377489e+06  2.423521e+06  2.405444e+06  2.402687e+06\n",
              "2021-07-23  2.396214e+06  2.484193e+06  2.411688e+06  2.484193e+06\n",
              "2021-07-24  2.495439e+06  2.565230e+06  2.495439e+06  2.535238e+06\n",
              "2021-07-25  2.529933e+06  2.586907e+06  2.553179e+06  2.550545e+06"
            ]
          },
          "metadata": {
            "tags": []
          },
          "execution_count": 26
        }
      ]
    },
    {
      "cell_type": "markdown",
      "metadata": {
        "id": "l9uqT4SNApBZ"
      },
      "source": [
        "#Candlestick Graph"
      ]
    },
    {
      "cell_type": "code",
      "metadata": {
        "colab": {
          "base_uri": "https://localhost:8080/",
          "height": 542
        },
        "id": "7ooFjdT57ojy",
        "outputId": "4cb79620-60bb-4fde-ef06-e4f7dd960d1f"
      },
      "source": [
        "fig = go.Figure(data=[go.Candlestick(x= candlestick_data.index,\n",
        "                open=candlestick_data['Price']['first'],\n",
        "                high=candlestick_data['Price']['max'],\n",
        "                low=candlestick_data['Price']['min'],\n",
        "                close=candlestick_data['Price']['last'])])\n",
        "\n",
        "fig.update_layout(xaxis_title = \"Date\",yaxis_title=\"Price(INR)\",title = \"BITCOIN CANDLESTICK CHART OVER PAST 30 DAYS\")\n",
        "\n",
        "\n",
        "fig.show()\n"
      ],
      "execution_count": 27,
      "outputs": [
        {
          "output_type": "display_data",
          "data": {
            "text/html": [
              "<html>\n",
              "<head><meta charset=\"utf-8\" /></head>\n",
              "<body>\n",
              "    <div>\n",
              "            <script src=\"https://cdnjs.cloudflare.com/ajax/libs/mathjax/2.7.5/MathJax.js?config=TeX-AMS-MML_SVG\"></script><script type=\"text/javascript\">if (window.MathJax) {MathJax.Hub.Config({SVG: {font: \"STIX-Web\"}});}</script>\n",
              "                <script type=\"text/javascript\">window.PlotlyConfig = {MathJaxConfig: 'local'};</script>\n",
              "        <script src=\"https://cdn.plot.ly/plotly-latest.min.js\"></script>    \n",
              "            <div id=\"b9957360-b930-4ade-999d-320d75d5a7db\" class=\"plotly-graph-div\" style=\"height:525px; width:100%;\"></div>\n",
              "            <script type=\"text/javascript\">\n",
              "                \n",
              "                    window.PLOTLYENV=window.PLOTLYENV || {};\n",
              "                    \n",
              "                if (document.getElementById(\"b9957360-b930-4ade-999d-320d75d5a7db\")) {\n",
              "                    Plotly.newPlot(\n",
              "                        'b9957360-b930-4ade-999d-320d75d5a7db',\n",
              "                        [{\"close\": [2336595.614908006, 2364260.281860585, 2561059.203307705, 2559683.8204874294, 2688409.742013695, 2588150.3804286947, 2511286.5150738456, 2516614.807979966, 2577351.512215878, 2640483.9413501173, 2539504.8640668127, 2553217.290868709, 2562413.2301357826, 2433949.3529746374, 2537359.0860343953, 2509297.57517658, 2567269.606779768, 2471279.9526514392, 2431828.032303076, 2464510.418891882, 2374443.1958935303, 2358533.407035554, 2366152.603130841, 2358342.0089921574, 2322268.385549079, 2205991.591657621, 2390953.2581606973, 2402686.648646503, 2484193.0807166537, 2535237.936600068, 2550545.0789169306], \"high\": [2454209.7270241072, 2401578.2310942416, 2561059.203307705, 2610054.4963588403, 2704051.787654166, 2676839.7639825726, 2615845.881011237, 2520604.934236673, 2600585.101246143, 2682162.754500576, 2636233.4063174976, 2608055.7359615196, 2605932.990913359, 2538884.382115241, 2537359.0860343953, 2551098.0007342626, 2577340.5311838095, 2577025.935604856, 2482480.4279240947, 2464510.418891882, 2466474.0937076234, 2401963.3663749355, 2386196.511552602, 2406092.7862069057, 2388070.804324445, 2322932.6646075826, 2403131.7281753016, 2423521.0964946607, 2484193.0807166537, 2565230.179368373, 2586907.343580666], \"low\": [2336595.614908006, 2236009.6679909113, 2375661.6763331844, 2536451.708019285, 2554662.378203684, 2546037.2982406756, 2464708.6315101706, 2454481.4627326424, 2494973.0680993716, 2574484.906627891, 2488223.8980067517, 2519874.159662116, 2557009.928708579, 2423946.049090246, 2420754.090478954, 2488534.7113566734, 2496678.925111476, 2450419.563641706, 2419705.4339503534, 2376884.3494762843, 2338864.4474720014, 2325825.214673709, 2338990.9584086286, 2333125.424207806, 2298496.4856761973, 2205991.591657621, 2211698.3946110266, 2377488.871100785, 2396213.7498678663, 2495439.35627358, 2529933.2399592455], \"open\": [2454209.7270241072, 2369664.844261479, 2375661.6763331844, 2569861.398613361, 2567077.4793474856, 2672058.846567196, 2615845.881011237, 2509356.7748803697, 2528724.0459391717, 2591166.0871837907, 2636233.4063174976, 2519874.159662116, 2557009.928708579, 2538884.382115241, 2460851.3034551586, 2530544.050723004, 2507885.8601493775, 2554899.299722558, 2479321.773220109, 2443513.348937644, 2448440.4991061375, 2362224.393214125, 2343770.606656084, 2357494.131597727, 2381072.993983235, 2319419.251592374, 2229603.7733603395, 2405444.2965573175, 2411688.1330977236, 2495439.35627358, 2553179.2408578633], \"type\": \"candlestick\", \"x\": [\"2021-06-25\", \"2021-06-26\", \"2021-06-27\", \"2021-06-28\", \"2021-06-29\", \"2021-06-30\", \"2021-07-01\", \"2021-07-02\", \"2021-07-03\", \"2021-07-04\", \"2021-07-05\", \"2021-07-06\", \"2021-07-07\", \"2021-07-08\", \"2021-07-09\", \"2021-07-10\", \"2021-07-11\", \"2021-07-12\", \"2021-07-13\", \"2021-07-14\", \"2021-07-15\", \"2021-07-16\", \"2021-07-17\", \"2021-07-18\", \"2021-07-19\", \"2021-07-20\", \"2021-07-21\", \"2021-07-22\", \"2021-07-23\", \"2021-07-24\", \"2021-07-25\"]}],\n",
              "                        {\"template\": {\"data\": {\"bar\": [{\"error_x\": {\"color\": \"#2a3f5f\"}, \"error_y\": {\"color\": \"#2a3f5f\"}, \"marker\": {\"line\": {\"color\": \"#E5ECF6\", \"width\": 0.5}}, \"type\": \"bar\"}], \"barpolar\": [{\"marker\": {\"line\": {\"color\": \"#E5ECF6\", \"width\": 0.5}}, \"type\": \"barpolar\"}], \"carpet\": [{\"aaxis\": {\"endlinecolor\": \"#2a3f5f\", \"gridcolor\": \"white\", \"linecolor\": \"white\", \"minorgridcolor\": \"white\", \"startlinecolor\": \"#2a3f5f\"}, \"baxis\": {\"endlinecolor\": \"#2a3f5f\", \"gridcolor\": \"white\", \"linecolor\": \"white\", \"minorgridcolor\": \"white\", \"startlinecolor\": \"#2a3f5f\"}, \"type\": \"carpet\"}], \"choropleth\": [{\"colorbar\": {\"outlinewidth\": 0, \"ticks\": \"\"}, \"type\": \"choropleth\"}], \"contour\": [{\"colorbar\": {\"outlinewidth\": 0, \"ticks\": \"\"}, \"colorscale\": [[0.0, \"#0d0887\"], [0.1111111111111111, \"#46039f\"], [0.2222222222222222, \"#7201a8\"], [0.3333333333333333, \"#9c179e\"], [0.4444444444444444, \"#bd3786\"], [0.5555555555555556, \"#d8576b\"], [0.6666666666666666, \"#ed7953\"], [0.7777777777777778, \"#fb9f3a\"], [0.8888888888888888, \"#fdca26\"], [1.0, \"#f0f921\"]], \"type\": \"contour\"}], \"contourcarpet\": [{\"colorbar\": {\"outlinewidth\": 0, \"ticks\": \"\"}, \"type\": \"contourcarpet\"}], \"heatmap\": [{\"colorbar\": {\"outlinewidth\": 0, \"ticks\": \"\"}, \"colorscale\": [[0.0, \"#0d0887\"], [0.1111111111111111, \"#46039f\"], [0.2222222222222222, \"#7201a8\"], [0.3333333333333333, \"#9c179e\"], [0.4444444444444444, \"#bd3786\"], [0.5555555555555556, \"#d8576b\"], [0.6666666666666666, \"#ed7953\"], [0.7777777777777778, \"#fb9f3a\"], [0.8888888888888888, \"#fdca26\"], [1.0, \"#f0f921\"]], \"type\": \"heatmap\"}], \"heatmapgl\": [{\"colorbar\": {\"outlinewidth\": 0, \"ticks\": \"\"}, \"colorscale\": [[0.0, \"#0d0887\"], [0.1111111111111111, \"#46039f\"], [0.2222222222222222, \"#7201a8\"], [0.3333333333333333, \"#9c179e\"], [0.4444444444444444, \"#bd3786\"], [0.5555555555555556, \"#d8576b\"], [0.6666666666666666, \"#ed7953\"], [0.7777777777777778, \"#fb9f3a\"], [0.8888888888888888, \"#fdca26\"], [1.0, \"#f0f921\"]], \"type\": \"heatmapgl\"}], \"histogram\": [{\"marker\": {\"colorbar\": {\"outlinewidth\": 0, \"ticks\": \"\"}}, \"type\": \"histogram\"}], \"histogram2d\": [{\"colorbar\": {\"outlinewidth\": 0, \"ticks\": \"\"}, \"colorscale\": [[0.0, \"#0d0887\"], [0.1111111111111111, \"#46039f\"], [0.2222222222222222, \"#7201a8\"], [0.3333333333333333, \"#9c179e\"], [0.4444444444444444, \"#bd3786\"], [0.5555555555555556, \"#d8576b\"], [0.6666666666666666, \"#ed7953\"], [0.7777777777777778, \"#fb9f3a\"], [0.8888888888888888, \"#fdca26\"], [1.0, \"#f0f921\"]], \"type\": \"histogram2d\"}], \"histogram2dcontour\": [{\"colorbar\": {\"outlinewidth\": 0, \"ticks\": \"\"}, \"colorscale\": [[0.0, \"#0d0887\"], [0.1111111111111111, \"#46039f\"], [0.2222222222222222, \"#7201a8\"], [0.3333333333333333, \"#9c179e\"], [0.4444444444444444, \"#bd3786\"], [0.5555555555555556, \"#d8576b\"], [0.6666666666666666, \"#ed7953\"], [0.7777777777777778, \"#fb9f3a\"], [0.8888888888888888, \"#fdca26\"], [1.0, \"#f0f921\"]], \"type\": \"histogram2dcontour\"}], \"mesh3d\": [{\"colorbar\": {\"outlinewidth\": 0, \"ticks\": \"\"}, \"type\": \"mesh3d\"}], \"parcoords\": [{\"line\": {\"colorbar\": {\"outlinewidth\": 0, \"ticks\": \"\"}}, \"type\": \"parcoords\"}], \"pie\": [{\"automargin\": true, \"type\": \"pie\"}], \"scatter\": [{\"marker\": {\"colorbar\": {\"outlinewidth\": 0, \"ticks\": \"\"}}, \"type\": \"scatter\"}], \"scatter3d\": [{\"line\": {\"colorbar\": {\"outlinewidth\": 0, \"ticks\": \"\"}}, \"marker\": {\"colorbar\": {\"outlinewidth\": 0, \"ticks\": \"\"}}, \"type\": \"scatter3d\"}], \"scattercarpet\": [{\"marker\": {\"colorbar\": {\"outlinewidth\": 0, \"ticks\": \"\"}}, \"type\": \"scattercarpet\"}], \"scattergeo\": [{\"marker\": {\"colorbar\": {\"outlinewidth\": 0, \"ticks\": \"\"}}, \"type\": \"scattergeo\"}], \"scattergl\": [{\"marker\": {\"colorbar\": {\"outlinewidth\": 0, \"ticks\": \"\"}}, \"type\": \"scattergl\"}], \"scattermapbox\": [{\"marker\": {\"colorbar\": {\"outlinewidth\": 0, \"ticks\": \"\"}}, \"type\": \"scattermapbox\"}], \"scatterpolar\": [{\"marker\": {\"colorbar\": {\"outlinewidth\": 0, \"ticks\": \"\"}}, \"type\": \"scatterpolar\"}], \"scatterpolargl\": [{\"marker\": {\"colorbar\": {\"outlinewidth\": 0, \"ticks\": \"\"}}, \"type\": \"scatterpolargl\"}], \"scatterternary\": [{\"marker\": {\"colorbar\": {\"outlinewidth\": 0, \"ticks\": \"\"}}, \"type\": \"scatterternary\"}], \"surface\": [{\"colorbar\": {\"outlinewidth\": 0, \"ticks\": \"\"}, \"colorscale\": [[0.0, \"#0d0887\"], [0.1111111111111111, \"#46039f\"], [0.2222222222222222, \"#7201a8\"], [0.3333333333333333, \"#9c179e\"], [0.4444444444444444, \"#bd3786\"], [0.5555555555555556, \"#d8576b\"], [0.6666666666666666, \"#ed7953\"], [0.7777777777777778, \"#fb9f3a\"], [0.8888888888888888, \"#fdca26\"], [1.0, \"#f0f921\"]], \"type\": \"surface\"}], \"table\": [{\"cells\": {\"fill\": {\"color\": \"#EBF0F8\"}, \"line\": {\"color\": \"white\"}}, \"header\": {\"fill\": {\"color\": \"#C8D4E3\"}, \"line\": {\"color\": \"white\"}}, \"type\": \"table\"}]}, \"layout\": {\"annotationdefaults\": {\"arrowcolor\": \"#2a3f5f\", \"arrowhead\": 0, \"arrowwidth\": 1}, \"coloraxis\": {\"colorbar\": {\"outlinewidth\": 0, \"ticks\": \"\"}}, \"colorscale\": {\"diverging\": [[0, \"#8e0152\"], [0.1, \"#c51b7d\"], [0.2, \"#de77ae\"], [0.3, \"#f1b6da\"], [0.4, \"#fde0ef\"], [0.5, \"#f7f7f7\"], [0.6, \"#e6f5d0\"], [0.7, \"#b8e186\"], [0.8, \"#7fbc41\"], [0.9, \"#4d9221\"], [1, \"#276419\"]], \"sequential\": [[0.0, \"#0d0887\"], [0.1111111111111111, \"#46039f\"], [0.2222222222222222, \"#7201a8\"], [0.3333333333333333, \"#9c179e\"], [0.4444444444444444, \"#bd3786\"], [0.5555555555555556, \"#d8576b\"], [0.6666666666666666, \"#ed7953\"], [0.7777777777777778, \"#fb9f3a\"], [0.8888888888888888, \"#fdca26\"], [1.0, \"#f0f921\"]], \"sequentialminus\": [[0.0, \"#0d0887\"], [0.1111111111111111, \"#46039f\"], [0.2222222222222222, \"#7201a8\"], [0.3333333333333333, \"#9c179e\"], [0.4444444444444444, \"#bd3786\"], [0.5555555555555556, \"#d8576b\"], [0.6666666666666666, \"#ed7953\"], [0.7777777777777778, \"#fb9f3a\"], [0.8888888888888888, \"#fdca26\"], [1.0, \"#f0f921\"]]}, \"colorway\": [\"#636efa\", \"#EF553B\", \"#00cc96\", \"#ab63fa\", \"#FFA15A\", \"#19d3f3\", \"#FF6692\", \"#B6E880\", \"#FF97FF\", \"#FECB52\"], \"font\": {\"color\": \"#2a3f5f\"}, \"geo\": {\"bgcolor\": \"white\", \"lakecolor\": \"white\", \"landcolor\": \"#E5ECF6\", \"showlakes\": true, \"showland\": true, \"subunitcolor\": \"white\"}, \"hoverlabel\": {\"align\": \"left\"}, \"hovermode\": \"closest\", \"mapbox\": {\"style\": \"light\"}, \"paper_bgcolor\": \"white\", \"plot_bgcolor\": \"#E5ECF6\", \"polar\": {\"angularaxis\": {\"gridcolor\": \"white\", \"linecolor\": \"white\", \"ticks\": \"\"}, \"bgcolor\": \"#E5ECF6\", \"radialaxis\": {\"gridcolor\": \"white\", \"linecolor\": \"white\", \"ticks\": \"\"}}, \"scene\": {\"xaxis\": {\"backgroundcolor\": \"#E5ECF6\", \"gridcolor\": \"white\", \"gridwidth\": 2, \"linecolor\": \"white\", \"showbackground\": true, \"ticks\": \"\", \"zerolinecolor\": \"white\"}, \"yaxis\": {\"backgroundcolor\": \"#E5ECF6\", \"gridcolor\": \"white\", \"gridwidth\": 2, \"linecolor\": \"white\", \"showbackground\": true, \"ticks\": \"\", \"zerolinecolor\": \"white\"}, \"zaxis\": {\"backgroundcolor\": \"#E5ECF6\", \"gridcolor\": \"white\", \"gridwidth\": 2, \"linecolor\": \"white\", \"showbackground\": true, \"ticks\": \"\", \"zerolinecolor\": \"white\"}}, \"shapedefaults\": {\"line\": {\"color\": \"#2a3f5f\"}}, \"ternary\": {\"aaxis\": {\"gridcolor\": \"white\", \"linecolor\": \"white\", \"ticks\": \"\"}, \"baxis\": {\"gridcolor\": \"white\", \"linecolor\": \"white\", \"ticks\": \"\"}, \"bgcolor\": \"#E5ECF6\", \"caxis\": {\"gridcolor\": \"white\", \"linecolor\": \"white\", \"ticks\": \"\"}}, \"title\": {\"x\": 0.05}, \"xaxis\": {\"automargin\": true, \"gridcolor\": \"white\", \"linecolor\": \"white\", \"ticks\": \"\", \"title\": {\"standoff\": 15}, \"zerolinecolor\": \"white\", \"zerolinewidth\": 2}, \"yaxis\": {\"automargin\": true, \"gridcolor\": \"white\", \"linecolor\": \"white\", \"ticks\": \"\", \"title\": {\"standoff\": 15}, \"zerolinecolor\": \"white\", \"zerolinewidth\": 2}}}, \"title\": {\"text\": \"BITCOIN CANDLESTICK CHART OVER PAST 30 DAYS\"}, \"xaxis\": {\"title\": {\"text\": \"Date\"}}, \"yaxis\": {\"title\": {\"text\": \"Price(INR)\"}}},\n",
              "                        {\"responsive\": true}\n",
              "                    ).then(function(){\n",
              "                            \n",
              "var gd = document.getElementById('b9957360-b930-4ade-999d-320d75d5a7db');\n",
              "var x = new MutationObserver(function (mutations, observer) {{\n",
              "        var display = window.getComputedStyle(gd).display;\n",
              "        if (!display || display === 'none') {{\n",
              "            console.log([gd, 'removed!']);\n",
              "            Plotly.purge(gd);\n",
              "            observer.disconnect();\n",
              "        }}\n",
              "}});\n",
              "\n",
              "// Listen for the removal of the full notebook cells\n",
              "var notebookContainer = gd.closest('#notebook-container');\n",
              "if (notebookContainer) {{\n",
              "    x.observe(notebookContainer, {childList: true});\n",
              "}}\n",
              "\n",
              "// Listen for the clearing of the current output cell\n",
              "var outputEl = gd.closest('.output');\n",
              "if (outputEl) {{\n",
              "    x.observe(outputEl, {childList: true});\n",
              "}}\n",
              "\n",
              "                        })\n",
              "                };\n",
              "                \n",
              "            </script>\n",
              "        </div>\n",
              "</body>\n",
              "</html>"
            ]
          },
          "metadata": {
            "tags": []
          }
        }
      ]
    },
    {
      "cell_type": "markdown",
      "metadata": {
        "id": "c4_V2u4KAw2y"
      },
      "source": [
        "#Visualizing Data"
      ]
    },
    {
      "cell_type": "code",
      "metadata": {
        "colab": {
          "base_uri": "https://localhost:8080/",
          "height": 313
        },
        "id": "1xU__DqxmjAe",
        "outputId": "bb29fd9c-5f0c-4b3b-f0ec-26ab2b135fc6"
      },
      "source": [
        "plt.plot(df[\"Timestamp\"],df[\"Price\"])\n",
        "plt.title(\"Bitcoin Price over time\", size=25)\n",
        "plt.xlabel(\"Time\", size=20)\n",
        "plt.ylabel(\"INR Price\", size=20)\n",
        "plt.show()"
      ],
      "execution_count": 28,
      "outputs": [
        {
          "output_type": "display_data",
          "data": {
            "image/png": "[encoded data removed]",
            "text/plain": [
              "<Figure size 432x288 with 1 Axes>"
            ]
          },
          "metadata": {
            "tags": [],
            "needs_background": "light"
          }
        }
      ]
    },
    {
      "cell_type": "markdown",
      "metadata": {
        "id": "VpzOo9AHA1Ry"
      },
      "source": [
        "#Data Preprocessing"
      ]
    },
    {
      "cell_type": "code",
      "metadata": {
        "colab": {
          "base_uri": "https://localhost:8080/",
          "height": 1000
        },
        "id": "JXMnvHItohgz",
        "outputId": "43096d86-0849-40fb-fc7e-84a770c32c29"
      },
      "source": [
        "df.groupby(df.Date.dt.date).agg({\"Price\":['min','max','first','last']}).reset_index().to_csv('candlestick_data.csv')\n",
        "data = pd.read_csv(\"candlestick_data.csv\")\n",
        "data.drop(\"Unnamed: 0\",axis=1,inplace=True)\n",
        "data.drop(labels=0, axis=0,inplace = True)\n",
        "data.rename(columns= {'Price':'min','Price.1':'max','Price.2':'first','Price.3':'last'})\n"
      ],
      "execution_count": 36,
      "outputs": [
        {
          "output_type": "execute_result",
          "data": {
            "text/html": [
              "<div>\n",
              "<style scoped>\n",
              "    .dataframe tbody tr th:only-of-type {\n",
              "        vertical-align: middle;\n",
              "    }\n",
              "\n",
              "    .dataframe tbody tr th {\n",
              "        vertical-align: top;\n",
              "    }\n",
              "\n",
              "    .dataframe thead th {\n",
              "        text-align: right;\n",
              "    }\n",
              "</style>\n",
              "<table border=\"1\" class=\"dataframe\">\n",
              "  <thead>\n",
              "    <tr style=\"text-align: right;\">\n",
              "      <th></th>\n",
              "      <th>Date</th>\n",
              "      <th>min</th>\n",
              "      <th>max</th>\n",
              "      <th>first</th>\n",
              "      <th>last</th>\n",
              "    </tr>\n",
              "  </thead>\n",
              "  <tbody>\n",
              "    <tr>\n",
              "      <th>1</th>\n",
              "      <td>2021-06-25</td>\n",
              "      <td>2336595.614908006</td>\n",
              "      <td>2454209.7270241072</td>\n",
              "      <td>2454209.7270241072</td>\n",
              "      <td>2336595.614908006</td>\n",
              "    </tr>\n",
              "    <tr>\n",
              "      <th>2</th>\n",
              "      <td>2021-06-26</td>\n",
              "      <td>2236009.6679909113</td>\n",
              "      <td>2401578.2310942416</td>\n",
              "      <td>2369664.844261479</td>\n",
              "      <td>2364260.281860585</td>\n",
              "    </tr>\n",
              "    <tr>\n",
              "      <th>3</th>\n",
              "      <td>2021-06-27</td>\n",
              "      <td>2375661.6763331844</td>\n",
              "      <td>2561059.203307705</td>\n",
              "      <td>2375661.6763331844</td>\n",
              "      <td>2561059.203307705</td>\n",
              "    </tr>\n",
              "    <tr>\n",
              "      <th>4</th>\n",
              "      <td>2021-06-28</td>\n",
              "      <td>2536451.708019285</td>\n",
              "      <td>2610054.4963588403</td>\n",
              "      <td>2569861.398613361</td>\n",
              "      <td>2559683.8204874294</td>\n",
              "    </tr>\n",
              "    <tr>\n",
              "      <th>5</th>\n",
              "      <td>2021-06-29</td>\n",
              "      <td>2554662.378203684</td>\n",
              "      <td>2704051.787654166</td>\n",
              "      <td>2567077.4793474856</td>\n",
              "      <td>2688409.742013695</td>\n",
              "    </tr>\n",
              "    <tr>\n",
              "      <th>6</th>\n",
              "      <td>2021-06-30</td>\n",
              "      <td>2546037.2982406756</td>\n",
              "      <td>2676839.7639825726</td>\n",
              "      <td>2672058.846567196</td>\n",
              "      <td>2588150.3804286947</td>\n",
              "    </tr>\n",
              "    <tr>\n",
              "      <th>7</th>\n",
              "      <td>2021-07-01</td>\n",
              "      <td>2464708.6315101706</td>\n",
              "      <td>2615845.881011237</td>\n",
              "      <td>2615845.881011237</td>\n",
              "      <td>2511286.5150738456</td>\n",
              "    </tr>\n",
              "    <tr>\n",
              "      <th>8</th>\n",
              "      <td>2021-07-02</td>\n",
              "      <td>2454481.4627326424</td>\n",
              "      <td>2520604.934236673</td>\n",
              "      <td>2509356.7748803697</td>\n",
              "      <td>2516614.807979966</td>\n",
              "    </tr>\n",
              "    <tr>\n",
              "      <th>9</th>\n",
              "      <td>2021-07-03</td>\n",
              "      <td>2494973.0680993716</td>\n",
              "      <td>2600585.101246143</td>\n",
              "      <td>2528724.0459391717</td>\n",
              "      <td>2577351.512215878</td>\n",
              "    </tr>\n",
              "    <tr>\n",
              "      <th>10</th>\n",
              "      <td>2021-07-04</td>\n",
              "      <td>2574484.906627891</td>\n",
              "      <td>2682162.754500576</td>\n",
              "      <td>2591166.0871837907</td>\n",
              "      <td>2640483.9413501173</td>\n",
              "    </tr>\n",
              "    <tr>\n",
              "      <th>11</th>\n",
              "      <td>2021-07-05</td>\n",
              "      <td>2488223.8980067517</td>\n",
              "      <td>2636233.4063174976</td>\n",
              "      <td>2636233.4063174976</td>\n",
              "      <td>2539504.8640668127</td>\n",
              "    </tr>\n",
              "    <tr>\n",
              "      <th>12</th>\n",
              "      <td>2021-07-06</td>\n",
              "      <td>2519874.159662116</td>\n",
              "      <td>2608055.7359615196</td>\n",
              "      <td>2519874.159662116</td>\n",
              "      <td>2553217.290868709</td>\n",
              "    </tr>\n",
              "    <tr>\n",
              "      <th>13</th>\n",
              "      <td>2021-07-07</td>\n",
              "      <td>2557009.928708579</td>\n",
              "      <td>2605932.990913359</td>\n",
              "      <td>2557009.928708579</td>\n",
              "      <td>2562413.2301357826</td>\n",
              "    </tr>\n",
              "    <tr>\n",
              "      <th>14</th>\n",
              "      <td>2021-07-08</td>\n",
              "      <td>2423946.049090246</td>\n",
              "      <td>2538884.382115241</td>\n",
              "      <td>2538884.382115241</td>\n",
              "      <td>2433949.3529746374</td>\n",
              "    </tr>\n",
              "    <tr>\n",
              "      <th>15</th>\n",
              "      <td>2021-07-09</td>\n",
              "      <td>2420754.090478954</td>\n",
              "      <td>2537359.0860343953</td>\n",
              "      <td>2460851.3034551586</td>\n",
              "      <td>2537359.0860343953</td>\n",
              "    </tr>\n",
              "    <tr>\n",
              "      <th>16</th>\n",
              "      <td>2021-07-10</td>\n",
              "      <td>2488534.7113566734</td>\n",
              "      <td>2551098.0007342626</td>\n",
              "      <td>2530544.050723004</td>\n",
              "      <td>2509297.57517658</td>\n",
              "    </tr>\n",
              "    <tr>\n",
              "      <th>17</th>\n",
              "      <td>2021-07-11</td>\n",
              "      <td>2496678.925111476</td>\n",
              "      <td>2577340.5311838095</td>\n",
              "      <td>2507885.8601493775</td>\n",
              "      <td>2567269.606779768</td>\n",
              "    </tr>\n",
              "    <tr>\n",
              "      <th>18</th>\n",
              "      <td>2021-07-12</td>\n",
              "      <td>2450419.563641706</td>\n",
              "      <td>2577025.935604856</td>\n",
              "      <td>2554899.299722558</td>\n",
              "      <td>2471279.9526514392</td>\n",
              "    </tr>\n",
              "    <tr>\n",
              "      <th>19</th>\n",
              "      <td>2021-07-13</td>\n",
              "      <td>2419705.4339503534</td>\n",
              "      <td>2482480.4279240947</td>\n",
              "      <td>2479321.773220109</td>\n",
              "      <td>2431828.032303076</td>\n",
              "    </tr>\n",
              "    <tr>\n",
              "      <th>20</th>\n",
              "      <td>2021-07-14</td>\n",
              "      <td>2376884.3494762843</td>\n",
              "      <td>2464510.418891882</td>\n",
              "      <td>2443513.348937644</td>\n",
              "      <td>2464510.418891882</td>\n",
              "    </tr>\n",
              "    <tr>\n",
              "      <th>21</th>\n",
              "      <td>2021-07-15</td>\n",
              "      <td>2338864.4474720014</td>\n",
              "      <td>2466474.0937076234</td>\n",
              "      <td>2448440.4991061375</td>\n",
              "      <td>2374443.1958935303</td>\n",
              "    </tr>\n",
              "    <tr>\n",
              "      <th>22</th>\n",
              "      <td>2021-07-16</td>\n",
              "      <td>2325825.214673709</td>\n",
              "      <td>2401963.3663749355</td>\n",
              "      <td>2362224.393214125</td>\n",
              "      <td>2358533.407035554</td>\n",
              "    </tr>\n",
              "    <tr>\n",
              "      <th>23</th>\n",
              "      <td>2021-07-17</td>\n",
              "      <td>2338990.9584086286</td>\n",
              "      <td>2386196.511552602</td>\n",
              "      <td>2343770.606656084</td>\n",
              "      <td>2366152.603130841</td>\n",
              "    </tr>\n",
              "    <tr>\n",
              "      <th>24</th>\n",
              "      <td>2021-07-18</td>\n",
              "      <td>2333125.424207806</td>\n",
              "      <td>2406092.7862069057</td>\n",
              "      <td>2357494.131597727</td>\n",
              "      <td>2358342.0089921574</td>\n",
              "    </tr>\n",
              "    <tr>\n",
              "      <th>25</th>\n",
              "      <td>2021-07-19</td>\n",
              "      <td>2298496.4856761973</td>\n",
              "      <td>2388070.804324445</td>\n",
              "      <td>2381072.993983235</td>\n",
              "      <td>2322268.385549079</td>\n",
              "    </tr>\n",
              "    <tr>\n",
              "      <th>26</th>\n",
              "      <td>2021-07-20</td>\n",
              "      <td>2205991.591657621</td>\n",
              "      <td>2322932.6646075826</td>\n",
              "      <td>2319419.251592374</td>\n",
              "      <td>2205991.591657621</td>\n",
              "    </tr>\n",
              "    <tr>\n",
              "      <th>27</th>\n",
              "      <td>2021-07-21</td>\n",
              "      <td>2211698.3946110266</td>\n",
              "      <td>2403131.7281753016</td>\n",
              "      <td>2229603.7733603395</td>\n",
              "      <td>2390953.2581606973</td>\n",
              "    </tr>\n",
              "    <tr>\n",
              "      <th>28</th>\n",
              "      <td>2021-07-22</td>\n",
              "      <td>2377488.871100785</td>\n",
              "      <td>2423521.0964946607</td>\n",
              "      <td>2405444.2965573175</td>\n",
              "      <td>2402686.648646503</td>\n",
              "    </tr>\n",
              "    <tr>\n",
              "      <th>29</th>\n",
              "      <td>2021-07-23</td>\n",
              "      <td>2396213.7498678663</td>\n",
              "      <td>2484193.0807166537</td>\n",
              "      <td>2411688.1330977236</td>\n",
              "      <td>2484193.0807166537</td>\n",
              "    </tr>\n",
              "    <tr>\n",
              "      <th>30</th>\n",
              "      <td>2021-07-24</td>\n",
              "      <td>2495439.35627358</td>\n",
              "      <td>2565230.179368373</td>\n",
              "      <td>2495439.35627358</td>\n",
              "      <td>2535237.936600068</td>\n",
              "    </tr>\n",
              "    <tr>\n",
              "      <th>31</th>\n",
              "      <td>2021-07-25</td>\n",
              "      <td>2529933.2399592455</td>\n",
              "      <td>2586907.343580666</td>\n",
              "      <td>2553179.2408578633</td>\n",
              "      <td>2550545.0789169306</td>\n",
              "    </tr>\n",
              "  </tbody>\n",
              "</table>\n",
              "</div>"
            ],
            "text/plain": [
              "          Date                 min  ...               first                last\n",
              "1   2021-06-25   2336595.614908006  ...  2454209.7270241072   2336595.614908006\n",
              "2   2021-06-26  2236009.6679909113  ...   2369664.844261479   2364260.281860585\n",
              "3   2021-06-27  2375661.6763331844  ...  2375661.6763331844   2561059.203307705\n",
              "4   2021-06-28   2536451.708019285  ...   2569861.398613361  2559683.8204874294\n",
              "5   2021-06-29   2554662.378203684  ...  2567077.4793474856   2688409.742013695\n",
              "6   2021-06-30  2546037.2982406756  ...   2672058.846567196  2588150.3804286947\n",
              "7   2021-07-01  2464708.6315101706  ...   2615845.881011237  2511286.5150738456\n",
              "8   2021-07-02  2454481.4627326424  ...  2509356.7748803697   2516614.807979966\n",
              "9   2021-07-03  2494973.0680993716  ...  2528724.0459391717   2577351.512215878\n",
              "10  2021-07-04   2574484.906627891  ...  2591166.0871837907  2640483.9413501173\n",
              "11  2021-07-05  2488223.8980067517  ...  2636233.4063174976  2539504.8640668127\n",
              "12  2021-07-06   2519874.159662116  ...   2519874.159662116   2553217.290868709\n",
              "13  2021-07-07   2557009.928708579  ...   2557009.928708579  2562413.2301357826\n",
              "14  2021-07-08   2423946.049090246  ...   2538884.382115241  2433949.3529746374\n",
              "15  2021-07-09   2420754.090478954  ...  2460851.3034551586  2537359.0860343953\n",
              "16  2021-07-10  2488534.7113566734  ...   2530544.050723004    2509297.57517658\n",
              "17  2021-07-11   2496678.925111476  ...  2507885.8601493775   2567269.606779768\n",
              "18  2021-07-12   2450419.563641706  ...   2554899.299722558  2471279.9526514392\n",
              "19  2021-07-13  2419705.4339503534  ...   2479321.773220109   2431828.032303076\n",
              "20  2021-07-14  2376884.3494762843  ...   2443513.348937644   2464510.418891882\n",
              "21  2021-07-15  2338864.4474720014  ...  2448440.4991061375  2374443.1958935303\n",
              "22  2021-07-16   2325825.214673709  ...   2362224.393214125   2358533.407035554\n",
              "23  2021-07-17  2338990.9584086286  ...   2343770.606656084   2366152.603130841\n",
              "24  2021-07-18   2333125.424207806  ...   2357494.131597727  2358342.0089921574\n",
              "25  2021-07-19  2298496.4856761973  ...   2381072.993983235   2322268.385549079\n",
              "26  2021-07-20   2205991.591657621  ...   2319419.251592374   2205991.591657621\n",
              "27  2021-07-21  2211698.3946110266  ...  2229603.7733603395  2390953.2581606973\n",
              "28  2021-07-22   2377488.871100785  ...  2405444.2965573175   2402686.648646503\n",
              "29  2021-07-23  2396213.7498678663  ...  2411688.1330977236  2484193.0807166537\n",
              "30  2021-07-24    2495439.35627358  ...    2495439.35627358   2535237.936600068\n",
              "31  2021-07-25  2529933.2399592455  ...  2553179.2408578633  2550545.0789169306\n",
              "\n",
              "[31 rows x 5 columns]"
            ]
          },
          "metadata": {
            "tags": []
          },
          "execution_count": 36
        }
      ]
    },
    {
      "cell_type": "code",
      "metadata": {
        "id": "zI5rZdfZzRw6"
      },
      "source": [
        "x = data.iloc[:,1:4]\n",
        "y = data.iloc[:,-1]"
      ],
      "execution_count": 30,
      "outputs": []
    },
    {
      "cell_type": "markdown",
      "metadata": {
        "id": "KjeEMAqcBBTH"
      },
      "source": [
        "# Splitting the data "
      ]
    },
    {
      "cell_type": "code",
      "metadata": {
        "id": "tSJiPhGJ1oS3"
      },
      "source": [
        "x_train,x_test,y_train,y_test = model_selection.train_test_split(x,y,random_state = 0,test_size = 0.20)"
      ],
      "execution_count": 31,
      "outputs": []
    },
    {
      "cell_type": "markdown",
      "metadata": {
        "id": "WLuNGYlGBGCE"
      },
      "source": [
        "# Fitting Data"
      ]
    },
    {
      "cell_type": "code",
      "metadata": {
        "colab": {
          "base_uri": "https://localhost:8080/"
        },
        "id": "GaEYqM4M1uro",
        "outputId": "adf490b4-befa-47a5-fdac-d0316b3cb77e"
      },
      "source": [
        "alg = LinearRegression()\n",
        "alg.fit(x_train,y_train)\n",
        "y_pred = alg.predict(x_test)\n",
        "y_pred"
      ],
      "execution_count": 32,
      "outputs": [
        {
          "output_type": "execute_result",
          "data": {
            "text/plain": [
              "array([2559438.16684123, 2545737.75532462, 2458967.84296096,\n",
              "       2534571.98710098, 2393608.08767056, 2259484.15875924,\n",
              "       2373041.52099821])"
            ]
          },
          "metadata": {
            "tags": []
          },
          "execution_count": 32
        }
      ]
    },
    {
      "cell_type": "markdown",
      "metadata": {
        "id": "KevfgMSiBKBT"
      },
      "source": [
        "#Coefficient of determination(Score)"
      ]
    },
    {
      "cell_type": "code",
      "metadata": {
        "colab": {
          "base_uri": "https://localhost:8080/"
        },
        "id": "iS6jSLYN1-fl",
        "outputId": "87a4a650-2c17-4bb9-a70a-12a508ee356a"
      },
      "source": [
        "alg.score(x_test,y_test)"
      ],
      "execution_count": 33,
      "outputs": [
        {
          "output_type": "execute_result",
          "data": {
            "text/plain": [
              "0.960516678941152"
            ]
          },
          "metadata": {
            "tags": []
          },
          "execution_count": 33
        }
      ]
    },
    {
      "cell_type": "markdown",
      "metadata": {
        "id": "30ZwL5oTBSSi"
      },
      "source": [
        "# Visualizing Predictions"
      ]
    },
    {
      "cell_type": "code",
      "metadata": {
        "colab": {
          "base_uri": "https://localhost:8080/",
          "height": 330
        },
        "id": "UAgEKSRs3IZP",
        "outputId": "c48e2085-04a3-47a8-c516-f50af5fefcf1"
      },
      "source": [
        "plt.scatter(y_test,y_pred)\n",
        "plt.tick_params(axis='x', rotation = 30)"
      ],
      "execution_count": 34,
      "outputs": [
        {
          "output_type": "display_data",
          "data": {
            "image/png": "[encoded data removed]",
            "text/plain": [
              "<Figure size 432x288 with 1 Axes>"
            ]
          },
          "metadata": {
            "tags": [],
            "needs_background": "light"
          }
        }
      ]
    },
    {
      "cell_type": "markdown",
      "metadata": {
        "id": "BGs3fSPNBWqy"
      },
      "source": [
        "# Evaluating Model"
      ]
    },
    {
      "cell_type": "code",
      "metadata": {
        "colab": {
          "base_uri": "https://localhost:8080/"
        },
        "id": "U1yyb4DD1j0y",
        "outputId": "f411f3b1-7356-4766-c465-d2c0ff2f0aa4"
      },
      "source": [
        "\n",
        "mse = mean_squared_error(y_test,y_pred)\n",
        "print(\"Mean Square Error: \",mse)\n",
        "rmse = np.sqrt(mse)\n",
        "print(\"Root Mean Square Error: \",rmse)\n",
        "r2 = r2_score(y_test, y_pred)\n",
        "print(\"R2 Score : \", r2*100,\"%\")"
      ],
      "execution_count": 35,
      "outputs": [
        {
          "output_type": "stream",
          "text": [
            "Mean Square Error:  536352037.53258955\n",
            "Root Mean Square Error:  23159.27541035318\n",
            "R2 Score :  96.0516678941152 %\n"
          ],
          "name": "stdout"
        }
      ]
    }
  ]
}